{
 "cells": [
  {
   "cell_type": "code",
   "execution_count": null,
   "id": "b3902b49-ce04-4fc0-8fc5-e754acfaaac9",
   "metadata": {},
   "outputs": [
    {
     "name": "stdout",
     "output_type": "stream",
     "text": [
      "Hello World\n",
      "My name is Mani Chenna Kesava Reddy and I am 25 years old.\n",
      "My name is Mani Chenna Kesava Reddy and I am 25 years old.\n",
      "Hello\n",
      "World\n",
      "Name\tMani Chenna Kesava Reddy\n"
     ]
    }
   ],
   "source": [
    "#print Hello World\n",
    "print(\"Hello World\")\n",
    "#different types of print statements \n",
    "#format()\n",
    "name = \"Mani Chenna Kesava Reddy....\"\n",
    "age = 25\n",
    "print(\"My name is {} and I am {} years old.\".format(name,age))\n",
    "#using f strings(instead of using format we use f-string)\n",
    "print(f\"My name is {name} and I am {age} years old.\")\n",
    "print(\"Hello\\nWorld\")#for next line\n",
    "print(\"Name\\tMani Chenna Kesava Reddy\")#for tab space\n"
   ]
  },
  {
   "cell_type": "code",
   "execution_count": 5,
   "id": "b07c1e6c-7f13-4b49-a9a7-4f45d8f06930",
   "metadata": {},
   "outputs": [
    {
     "name": "stdout",
     "output_type": "stream",
     "text": [
      "21\n"
     ]
    }
   ],
   "source": [
    "'''syntax to declare a variable, (name_of_the_variable = value) to print that, print(name_of_the_variable)'''\n",
    "age = 21\n",
    "print(age)"
   ]
  },
  {
   "cell_type": "code",
   "execution_count": 7,
   "id": "befcb911-9468-4883-b1aa-93af66976afa",
   "metadata": {},
   "outputs": [
    {
     "name": "stdout",
     "output_type": "stream",
     "text": [
      "enter your age: 21\n"
     ]
    }
   ],
   "source": [
    "#to print the message along with our variable \n",
    "print(\"enter your age:\", age)"
   ]
  },
  {
   "cell_type": "code",
   "execution_count": 14,
   "id": "545c2580-dce3-4f15-8d79-f41d0279b9d3",
   "metadata": {},
   "outputs": [
    {
     "name": "stdout",
     "output_type": "stream",
     "text": [
      "Today's date is: 27/11/2024\n"
     ]
    }
   ],
   "source": [
    "date = \"27/11/2024\"\n",
    "print(\"Today's date is:\",date )"
   ]
  },
  {
   "cell_type": "code",
   "execution_count": 24,
   "id": "4669f6b9-c25d-449b-a78c-23dec0c4991d",
   "metadata": {},
   "outputs": [
    {
     "name": "stdout",
     "output_type": "stream",
     "text": [
      "Enter your age?\n",
      " 21\n"
     ]
    },
    {
     "name": "stdout",
     "output_type": "stream",
     "text": [
      "Your age is: 21\n"
     ]
    }
   ],
   "source": [
    "#To take input from the user we have to use input and to get the input box in next line we have to use this \"\\n\".\n",
    "age= input(\"Enter your age?\\n\")\n",
    "print(\"Your age is:\",age)\n"
   ]
  },
  {
   "cell_type": "code",
   "execution_count": 19,
   "id": "be03c15b-d0b1-4e8d-bd6d-c4d7617c68e0",
   "metadata": {},
   "outputs": [
    {
     "name": "stdout",
     "output_type": "stream",
     "text": [
      "Tell me your birthdate?\n",
      " 03/05/2004\n"
     ]
    },
    {
     "name": "stdout",
     "output_type": "stream",
     "text": [
      "Your birthdate is 03/05/2004\n"
     ]
    }
   ],
   "source": [
    "bd =input(\"Tell me your birthdate?\\n\")\n",
    "print(\"Your birthdate is\",bd)"
   ]
  },
  {
   "cell_type": "code",
   "execution_count": null,
   "id": "bc54f81d-8b34-4559-9d77-78dd8b7baaba",
   "metadata": {},
   "outputs": [
    {
     "data": {
      "text/plain": [
       "' Rules for creating a variable \\n1. Must start with a letter or underscore(\"_\") at first example: _age or age.\\n2. cannot start with a number. ex: 1age.\\n3. Cannot use any special character at first. ex: $age.\\n4. cannot use space instead use underscore.\\n5. case sensitive. Ex: age != Age.\\n6. Cannot be a keyword.'"
      ]
     },
     "execution_count": 25,
     "metadata": {},
     "output_type": "execute_result"
    }
   ],
   "source": [
    "\"\"\" Rules for creating a variable \n",
    "1. Must start with a letter(a-z,A-Z) or underscore(\"_\") at first example: _age or age.\n",
    "2. cannot start with a number. example: 1age.\n",
    "3. Cannot use any special character at first. example: $age.\n",
    "4. cannot use space instead use underscore.\n",
    "5. case sensitive. Example: age != Age.\n",
    "6. Cannot be a keyword.\"\"\"\n",
    "\n",
    "#constants\n",
    "\"\"\"\n",
    "python does not have built-in constants, but we use UPPERCASE name convention.\n",
    "Exmple:\n",
    "PI = 3.14159\n",
    "\"\"\""
   ]
  },
  {
   "cell_type": "code",
   "execution_count": 20,
   "id": "9c007609-73d3-460f-93fd-49d3c39ff815",
   "metadata": {},
   "outputs": [
    {
     "data": {
      "text/plain": [
       "['False',\n",
       " 'None',\n",
       " 'True',\n",
       " 'and',\n",
       " 'as',\n",
       " 'assert',\n",
       " 'async',\n",
       " 'await',\n",
       " 'break',\n",
       " 'class',\n",
       " 'continue',\n",
       " 'def',\n",
       " 'del',\n",
       " 'elif',\n",
       " 'else',\n",
       " 'except',\n",
       " 'finally',\n",
       " 'for',\n",
       " 'from',\n",
       " 'global',\n",
       " 'if',\n",
       " 'import',\n",
       " 'in',\n",
       " 'is',\n",
       " 'lambda',\n",
       " 'nonlocal',\n",
       " 'not',\n",
       " 'or',\n",
       " 'pass',\n",
       " 'raise',\n",
       " 'return',\n",
       " 'try',\n",
       " 'while',\n",
       " 'with',\n",
       " 'yield']"
      ]
     },
     "execution_count": 20,
     "metadata": {},
     "output_type": "execute_result"
    }
   ],
   "source": [
    "import keyword\n",
    "keyword.kwlist"
   ]
  },
  {
   "cell_type": "code",
   "execution_count": 23,
   "id": "f63face7-f413-4c20-bd0c-aab59175ae4e",
   "metadata": {},
   "outputs": [
    {
     "ename": "SyntaxError",
     "evalue": "invalid syntax (2770942925.py, line 2)",
     "output_type": "error",
     "traceback": [
      "\u001b[1;36m  Cell \u001b[1;32mIn[23], line 2\u001b[1;36m\u001b[0m\n\u001b[1;33m    class = 4\u001b[0m\n\u001b[1;37m          ^\u001b[0m\n\u001b[1;31mSyntaxError\u001b[0m\u001b[1;31m:\u001b[0m invalid syntax\n"
     ]
    }
   ],
   "source": [
    "#cannot use these keywords as variable \n",
    "class = 4"
   ]
  },
  {
   "cell_type": "code",
   "execution_count": 25,
   "id": "3901e5c2-d03b-4708-af51-51af38ee8188",
   "metadata": {},
   "outputs": [
    {
     "name": "stdout",
     "output_type": "stream",
     "text": [
      "2024 21 26\n"
     ]
    }
   ],
   "source": [
    "\"\"\"we can assign multiple varibles in a single line, during assignment the variable name on left side should be equal with values to the right side,\n",
    "if not is results in error.\"\"\"\n",
    "year, age, date = 2024,21,26\n",
    "print(year,age,date)"
   ]
  },
  {
   "cell_type": "code",
   "execution_count": 29,
   "id": "f661ac17-0793-473c-ae5c-10723f5e2062",
   "metadata": {},
   "outputs": [
    {
     "ename": "ValueError",
     "evalue": "too many values to unpack (expected 2)",
     "output_type": "error",
     "traceback": [
      "\u001b[1;31m---------------------------------------------------------------------------\u001b[0m",
      "\u001b[1;31mValueError\u001b[0m                                Traceback (most recent call last)",
      "Cell \u001b[1;32mIn[29], line 4\u001b[0m\n\u001b[0;32m      1\u001b[0m \u001b[38;5;66;03m#unequal items on either side will result in error.\u001b[39;00m\n\u001b[0;32m      2\u001b[0m \u001b[38;5;124;03m'''year,age,date =2024,21\u001b[39;00m\n\u001b[0;32m      3\u001b[0m \u001b[38;5;124;03mprint(year,age,date)'''\u001b[39;00m\n\u001b[1;32m----> 4\u001b[0m year,age \u001b[38;5;241m=\u001b[39m \u001b[38;5;241m2024\u001b[39m,\u001b[38;5;241m21\u001b[39m,\u001b[38;5;241m26\u001b[39m\n\u001b[0;32m      5\u001b[0m \u001b[38;5;28mprint\u001b[39m(year,age)\n",
      "\u001b[1;31mValueError\u001b[0m: too many values to unpack (expected 2)"
     ]
    }
   ],
   "source": [
    "#unequal items on either side will result in error.\n",
    "'''year,age,date =2024,21\n",
    "print(year,age,date)'''\n",
    "year,age = 2024,21,26\n",
    "print(year,age)"
   ]
  },
  {
   "cell_type": "code",
   "execution_count": 30,
   "id": "12cf1c07-70e8-4f34-9170-a652812f94f8",
   "metadata": {},
   "outputs": [
    {
     "name": "stdout",
     "output_type": "stream",
     "text": [
      "2024 2024 2024\n"
     ]
    }
   ],
   "source": [
    "#assign single value to multiple variables.\n",
    "year = this_year = year_after_2023 = 2024\n",
    "print(year,this_year,year_after_2023)"
   ]
  },
  {
   "cell_type": "code",
   "execution_count": 1,
   "id": "1ba596d8-5741-4f46-9860-375cfe3ba85a",
   "metadata": {},
   "outputs": [
    {
     "name": "stdout",
     "output_type": "stream",
     "text": [
      "1$ = 84.56\n",
      "memory address of dollar: 1994156193712\n"
     ]
    }
   ],
   "source": [
    "# To get the memory location of the variable is id(variable)\n",
    "dollar = 84.56\n",
    "print(\"1$ =\", dollar)\n",
    "print(\"memory address of dollar:\", id(dollar))"
   ]
  },
  {
   "cell_type": "code",
   "execution_count": 3,
   "id": "aec73ed7-7df7-42bc-9d18-899268df4a65",
   "metadata": {},
   "outputs": [
    {
     "name": "stdout",
     "output_type": "stream",
     "text": [
      "In 2020 , 1$= 80.1\n",
      "MA of dollar: 1994156186352\n",
      "In 2024, 1$= 84.56\n",
      "MA of dollar: 1994156186800\n"
     ]
    }
   ],
   "source": [
    "#You can update a variable value by reassigning value of a variable , variable_name = new_value. while updating the value its MA also will change. \n",
    "dollar = 80.10\n",
    "print(\"In 2020 , 1$=\", dollar)\n",
    "print(\"MA of dollar:\", id(dollar))\n",
    "dollar = 84.56\n",
    "print(\"In 2024, 1$=\", dollar)\n",
    "print(\"MA of dollar:\",id(dollar))\n"
   ]
  },
  {
   "cell_type": "code",
   "execution_count": 6,
   "id": "9873e3cb-dd52-4230-8d21-9db4f7ae46ef",
   "metadata": {},
   "outputs": [
    {
     "ename": "NameError",
     "evalue": "name 'book' is not defined",
     "output_type": "error",
     "traceback": [
      "\u001b[1;31m---------------------------------------------------------------------------\u001b[0m",
      "\u001b[1;31mNameError\u001b[0m                                 Traceback (most recent call last)",
      "Cell \u001b[1;32mIn[6], line 4\u001b[0m\n\u001b[0;32m      2\u001b[0m book \u001b[38;5;241m=\u001b[39m \u001b[38;5;241m5\u001b[39m\n\u001b[0;32m      3\u001b[0m \u001b[38;5;28;01mdel\u001b[39;00m book\n\u001b[1;32m----> 4\u001b[0m \u001b[38;5;28mprint\u001b[39m(\u001b[43mbook\u001b[49m)\n",
      "\u001b[1;31mNameError\u001b[0m: name 'book' is not defined"
     ]
    }
   ],
   "source": [
    "#You can delete the variable also using this \"del variable_name\"\n",
    "book = 5\n",
    "del book\n",
    "print(book)"
   ]
  },
  {
   "cell_type": "code",
   "execution_count": 7,
   "id": "ca0b3fc6-e576-4df5-84f0-8e87c9b40b6b",
   "metadata": {},
   "outputs": [],
   "source": [
    "#A constant is a type variable whose value cannot be changed , that hold information cannot be changed later.\n",
    "GRAVITY = 9.81"
   ]
  },
  {
   "cell_type": "code",
   "execution_count": 15,
   "id": "5117eb6a-b197-44e8-a399-5b7ba486cf56",
   "metadata": {},
   "outputs": [
    {
     "name": "stdout",
     "output_type": "stream",
     "text": [
      "apple price\n",
      " 35\n"
     ]
    },
    {
     "name": "stdout",
     "output_type": "stream",
     "text": [
      "Apple price is: 35\n",
      "MA of apple price: 1994167134000\n",
      "Apple price is: 34\n",
      "MA of apple price: 140720384022344\n"
     ]
    },
    {
     "ename": "NameError",
     "evalue": "name 'ap' is not defined",
     "output_type": "error",
     "traceback": [
      "\u001b[1;31m---------------------------------------------------------------------------\u001b[0m",
      "\u001b[1;31mNameError\u001b[0m                                 Traceback (most recent call last)",
      "Cell \u001b[1;32mIn[15], line 8\u001b[0m\n\u001b[0;32m      6\u001b[0m \u001b[38;5;28mprint\u001b[39m(\u001b[38;5;124m\"\u001b[39m\u001b[38;5;124mMA of apple price:\u001b[39m\u001b[38;5;124m\"\u001b[39m,\u001b[38;5;28mid\u001b[39m(ap))\n\u001b[0;32m      7\u001b[0m \u001b[38;5;28;01mdel\u001b[39;00m ap\n\u001b[1;32m----> 8\u001b[0m \u001b[38;5;28mprint\u001b[39m(\u001b[43map\u001b[49m)\n",
      "\u001b[1;31mNameError\u001b[0m: name 'ap' is not defined"
     ]
    }
   ],
   "source": [
    "ap = input(\"apple price\\n\")\n",
    "print(\"Apple price is:\", ap)\n",
    "print(\"MA of apple price:\",id(ap))\n",
    "ap = 34\n",
    "print(\"Apple price is:\", ap)\n",
    "print(\"MA of apple price:\",id(ap))\n",
    "del ap\n",
    "print(ap)"
   ]
  },
  {
   "cell_type": "code",
   "execution_count": 1,
   "id": "506d3be8-8fd6-4d67-b188-3291705fe36c",
   "metadata": {},
   "outputs": [
    {
     "name": "stdout",
     "output_type": "stream",
     "text": [
      "The box is None\n",
      "<class 'NoneType'>\n",
      "Gravity = 9.81 True\n",
      "1+2 = 5 is  False\n",
      "<class 'bool'>\n",
      "<class 'bool'>\n"
     ]
    }
   ],
   "source": [
    "'''Data type : Data type is type of data that to be stored in a variable. \n",
    "there are two types of data types are available \n",
    "1. user defined data types : example - class, module, array etc.\n",
    "2. Bulit-in data types: data types which are already availble in python-\n",
    "-None\n",
    "-Bool/booleans\n",
    "-Numeric types\n",
    "  -Int\n",
    "  -Float\n",
    "  -Complex\n",
    "-Sequences/Collections\n",
    "  -List\n",
    "  -tuple\n",
    "  -set\n",
    "  -dict\n",
    "  -str\n",
    "None data type represents an object that does not contain any value\n",
    "syntax for none data type variable is \n",
    "variable_name = None \n",
    "To KNOW  THAT A VARIABLE  IS BELONGS TO SPECIFIC DATA TYPE WE USE \n",
    "type(variable_name)\n",
    "it is an in-built or predefined function which is used to check data type of a variable.'''\n",
    "#Example for None data type  \n",
    "box = None\n",
    "print(\"The box is\", box)\n",
    "print(type(box))\n",
    "#Example for Bool(boolean) data type \n",
    "a = True\n",
    "b = False\n",
    "print(\"Gravity = 9.81\", a)\n",
    "print(\"1+2 = 5 is \", b)\n",
    "print(type(a))\n",
    "print(type(b))"
   ]
  },
  {
   "cell_type": "code",
   "execution_count": 27,
   "id": "f4e76570-93b9-4572-9fa0-dd0ad8599aae",
   "metadata": {},
   "outputs": [
    {
     "name": "stdout",
     "output_type": "stream",
     "text": [
      "Today is Thursday True\n",
      "<class 'bool'>\n"
     ]
    }
   ],
   "source": [
    "td = True\n",
    "print(\"Today is Thursday\", td )\n",
    "print(type(td))"
   ]
  },
  {
   "cell_type": "code",
   "execution_count": 17,
   "id": "e48a338e-ed5d-4fb1-9a94-f43baef7012d",
   "metadata": {},
   "outputs": [
    {
     "data": {
      "text/plain": [
       "'Numeric Data types\\n-int data type\\nThe int data type represents values or numbers without decimal values. In python there is \\nno limit for int data type, it can store very large values conveniently.'"
      ]
     },
     "execution_count": 17,
     "metadata": {},
     "output_type": "execute_result"
    }
   ],
   "source": [
    "'''Numeric Data types\n",
    "-int data type\n",
    "The int data type represents values or numbers without decimal values. In python there is \n",
    "no limit for int data type, it can store very large values conveniently.'''\n",
    "\n"
   ]
  },
  {
   "cell_type": "code",
   "execution_count": 28,
   "id": "4ac00349-3a4b-41a8-a223-4b5e1678721f",
   "metadata": {},
   "outputs": [
    {
     "name": "stdout",
     "output_type": "stream",
     "text": [
      "My student Id 210102053\n",
      "<class 'int'>\n",
      "1975221531088\n"
     ]
    }
   ],
   "source": [
    "Sid = 210102053\n",
    "print(\"My student Id\" , Sid)\n",
    "print(type(Sid))\n",
    "print(id(Sid))\n"
   ]
  },
  {
   "cell_type": "code",
   "execution_count": 29,
   "id": "fe028c94-3844-4ade-bbf4-c834f9cfc0ee",
   "metadata": {},
   "outputs": [
    {
     "name": "stdout",
     "output_type": "stream",
     "text": [
      "Number of subjects in semester 8 is  2\n",
      "<class 'int'>\n",
      "140719594181448\n"
     ]
    }
   ],
   "source": [
    " '''Create a variable \"s\" and store number of subjects you are taking on this semester then\n",
    " print it and its data type'''\n",
    "subjects = 2\n",
    "print (\"Number of subjects in semester 8 is \", subjects)\n",
    "print(type(subjects))\n",
    "print(id(subjects))"
   ]
  },
  {
   "cell_type": "code",
   "execution_count": 10,
   "id": "d863d4b3-f5d4-4eb8-9047-f3aaace0bd86",
   "metadata": {},
   "outputs": [
    {
     "name": "stdout",
     "output_type": "stream",
     "text": [
      "My CGPA outof 4 is 3.03\n",
      "<class 'float'>\n"
     ]
    }
   ],
   "source": [
    "'''Float data type represents a number with decimal values.'''\n",
    "Grade = 3.03\n",
    "print(\"My CGPA outof 4 is\", Grade)\n",
    "print(type(Grade))"
   ]
  },
  {
   "cell_type": "code",
   "execution_count": 11,
   "id": "fa909d8a-0dc1-44ec-ba96-135279472e34",
   "metadata": {},
   "outputs": [
    {
     "name": "stdout",
     "output_type": "stream",
     "text": [
      "Current Temperature is  26.0 degree celcius\n",
      "<class 'float'>\n"
     ]
    }
   ],
   "source": [
    "'''Create a variable \"T\" and store current temperature then print it and its data type?'''\n",
    "T = 26.0\n",
    "print(\"Current Temperature is \",T,\"degree celcius\")\n",
    "print(type(T))"
   ]
  },
  {
   "cell_type": "code",
   "execution_count": 17,
   "id": "efa5bea7-40d5-40bc-b78c-93d6c38a8b03",
   "metadata": {},
   "outputs": [
    {
     "name": "stdout",
     "output_type": "stream",
     "text": [
      "(2+3j) (2+4j)\n",
      "<class 'complex'> <class 'complex'>\n"
     ]
    }
   ],
   "source": [
    "#Complex data type \n",
    " '''The complex data type represents the numbers which is written in the form of a+bj or a-bj, here a is\n",
    " representing a real and b is representing an imaginary part of the number. The suffix small j or upper J after b\n",
    " indicates the square root of -1. The part \"a\" and \"b\" may contain integers or floats.'''\n",
    "a = 2+3j\n",
    "b = 2+4J\n",
    "print(a,b)\n",
    "print(type(a), type(b))\n"
   ]
  },
  {
   "cell_type": "code",
   "execution_count": null,
   "id": "5be8e0d5-fa86-486f-88e9-0ceffb5dbc1b",
   "metadata": {},
   "outputs": [],
   "source": [
    "#Sequence data types\n",
    "''' Sequences in python are objects that can store a group of values. The below data types are called sequences.\n",
    " String\n",
    " List\n",
    " Tuple\n",
    " Set\n",
    " Dictionary'''"
   ]
  },
  {
   "cell_type": "code",
   "execution_count": 22,
   "id": "1cf4ea1f-76bf-4506-a27e-f2d1c6668604",
   "metadata": {},
   "outputs": [
    {
     "name": "stdout",
     "output_type": "stream",
     "text": [
      "My name is  Mani\n",
      "<class 'str'>\n",
      "My name is  Mani\n",
      "<class 'str'>\n",
      "My name is  \" Mani\"\n",
      "<class 'str'>\n",
      "My name is  Mani\n",
      "<class 'str'>\n"
     ]
    }
   ],
   "source": [
    "#String data type\n",
    "'''A group of characters enclosed within single quotes or double or triple quotes is called a string'''\n",
    "#using single quotes\n",
    "Name = 'Mani'\n",
    "print(\"My name is \", Name)\n",
    "print(type(Name))\n",
    "#using double quotes\n",
    "ame = \"Mani\"\n",
    "print(\"My name is \", ame)\n",
    "print(type(name))\n",
    "#using triple quotes\n",
    "me = '\" Mani\"'\n",
    "print(\"My name is \", me)\n",
    "print(type(name))\n",
    "\n",
    "e = '''Mani'''\n",
    "print(\"My name is \",e )\n",
    "print(type(e))"
   ]
  },
  {
   "cell_type": "code",
   "execution_count": null,
   "id": "48f412c4-9a40-412a-8d9c-cd1e18ddd2ad",
   "metadata": {},
   "outputs": [
    {
     "name": "stdout",
     "output_type": "stream",
     "text": [
      "Mani\n",
      "Diet mountain dew\n",
      "If you want to shine like a sun , first burn like a sun\n"
     ]
    }
   ],
   "source": [
    "'''Create a variable \"n\", \"s\", \"q\" and store your name, your favorite song and your\n",
    " favorite quote respectively. then print it?'''\n",
    "n =\"Mani\"\n",
    "s = \"Diet mountain dew\"\n",
    "q =\"If you want to shine like a sun , first burn like a sun\"\n",
    "print(n)\n",
    "print(s)\n",
    "print(q)"
   ]
  },
  {
   "cell_type": "code",
   "execution_count": 33,
   "id": "0c4e4351-5eec-4267-9b27-afa9a339fcf4",
   "metadata": {},
   "outputs": [
    {
     "name": "stdout",
     "output_type": "stream",
     "text": [
      "see the python ignored the above lines and printed only the print statement\n"
     ]
    }
   ],
   "source": [
    "#Comments\n",
    "'''comments is a programmer- readable  explanation or annotation in the source code.\n",
    "-comments are useful to describe the code in an easy way.\n",
    "-python ignore comments while running the program.\n",
    "-to comment python code we can use hash symbol #\n",
    "-for multiple comments , we can use single/double/triple quotation marks.'''\n",
    "print(\"see the python ignored the above lines and printed only the print statement\")\n"
   ]
  },
  {
   "cell_type": "code",
   "execution_count": null,
   "id": "97a5ebd1-56a0-4154-a927-d27896f1b6c4",
   "metadata": {},
   "outputs": [
    {
     "name": "stdout",
     "output_type": "stream",
     "text": [
      "Hello world!\n"
     ]
    }
   ],
   "source": [
    "'''Write any python code that you have learned before then describe your code by\n",
    " ✓ Title of the code\n",
    " ✓ Coder name\n",
    " ✓ Date\n",
    " ✓ Place'''\n",
    "#my first program \n",
    "#Mani\n",
    "#16-12-2024\n",
    "#kamkole, woxsen university, hyderabad\n",
    "print(\"Hello world!\")"
   ]
  },
  {
   "cell_type": "code",
   "execution_count": 30,
   "id": "5737f552-f57e-4669-ba6f-ec9b2b2ee744",
   "metadata": {},
   "outputs": [
    {
     "name": "stdout",
     "output_type": "stream",
     "text": [
      "My details [1, 'Mani', 3.03, 'pass', 2]\n",
      "<class 'list'>\n",
      "1975212426688\n"
     ]
    }
   ],
   "source": [
    "#List data type\n",
    "'''we can create list data structure by using square brackets[]. \n",
    "- A list can store different data types.\n",
    "-List is mutable (elements can be removed or added).\n",
    "syntax to create list:\n",
    "name_of_the_list=[element,......] '''\n",
    "detail = [1, 'Mani', 3.03, 'pass', 2]\n",
    "print(\"My details\", detail)\n",
    "print(type(detail))\n",
    "print(id(detail))"
   ]
  },
  {
   "cell_type": "code",
   "execution_count": null,
   "id": "15dae3d3-9811-4cae-93aa-40d358f9ad77",
   "metadata": {},
   "outputs": [
    {
     "name": "stdout",
     "output_type": "stream",
     "text": [
      "my favourite subjects are ['Data Science', 'Computer vision', 'Machine learning', 'etc']\n",
      "<class 'list'>\n"
     ]
    }
   ],
   "source": [
    "'''Create a list of your favorite subjects then print it and its data type?'''\n",
    "favourite_subjects = [ 'Data Science', 'Computer vision', 'Machine learning', 'etc']\n",
    "print(\"my favourite subjects are\", favourite_subjects)\n",
    "print(type(favourite_subjects))"
   ]
  },
  {
   "cell_type": "code",
   "execution_count": 32,
   "id": "f63fb8d7-3712-4cdd-843b-211edc60716a",
   "metadata": {},
   "outputs": [
    {
     "name": "stdout",
     "output_type": "stream",
     "text": [
      "My details (1, 'Mani', 3.03, 'pass', 2)\n",
      "<class 'tuple'>\n"
     ]
    }
   ],
   "source": [
    "#Tuple data type\n",
    "'''We can create a tuple data structure by using parenthesis().\n",
    "A tuple can store different data types.\n",
    "tuple is immutable.(elemnts cannot be removed or added).\n",
    "syntax to create tuple:\n",
    "name_of_the_tuple = (element,.....)'''\n",
    "details=(1, 'Mani', 3.03,'pass',2)\n",
    "print(\"My details\",details)\n",
    "print(type(details))"
   ]
  },
  {
   "cell_type": "markdown",
   "id": "0cb0da0f-d08c-4a56-aee8-83104efa1c42",
   "metadata": {},
   "source": [
    "#How can you say that in lists and tuples or others that elements can be removed or added (mutable or immutable)???"
   ]
  },
  {
   "cell_type": "code",
   "execution_count": 13,
   "id": "ebec4714-4c57-4942-ba51-6ac452206bcb",
   "metadata": {},
   "outputs": [
    {
     "name": "stdout",
     "output_type": "stream",
     "text": [
      "[9, 2, 3, 5]\n",
      "(1, [9, 3], 4)\n"
     ]
    }
   ],
   "source": [
    "#Example for above doubt \n",
    "#Mutable: Elements can be added, removed, or modified after the list is created.\n",
    "\n",
    "My_list = [ 1, 2, 3, 4]\n",
    "My_list.append(5)\n",
    "My_list.remove(4)\n",
    "My_list[0] = 9\n",
    "print(My_list)\n",
    "#Immutable: Once created, the elements in a tuple cannot be added, removed, or modified.\n",
    "'''My_tuple = (1, 2, 3, 4)\n",
    "My_tuple[0] = 9'''\n",
    "#My_tuple.append(5)\n",
    "#nested tuple , if a tuple contains a mutable object (like a list), that object can be modified\n",
    "Nested_tuple = (1, [2,3],4)  #Beacuse of the list position is at \"1\" it will add the number in list at the end.\n",
    "#Nested_tuple[1].append(5)\n",
    "Nested_tuple[1][0] = 9\n",
    "print(Nested_tuple)\n",
    "#If you want to replace the value 2 in the list, you need to use indexing and assignment instead of append."
   ]
  },
  {
   "cell_type": "code",
   "execution_count": 5,
   "id": "301e3a4a-d170-424a-88e3-67707c7932db",
   "metadata": {},
   "outputs": [
    {
     "name": "stdout",
     "output_type": "stream",
     "text": [
      "days in a week are ('Sunday', 'Monday', 'Tuesday', 'Wednesday', 'Thursday', 'Friday', 'Saturday')\n",
      "<class 'tuple'>\n"
     ]
    }
   ],
   "source": [
    "''' Create a tuple of days in a week then print it and its data type?'''\n",
    "days_in_a_week = ('Sunday', 'Monday', 'Tuesday', 'Wednesday','Thursday','Friday','Saturday')\n",
    "print(\"days in a week are\", days_in_a_week)\n",
    "print(type(days_in_a_week))"
   ]
  },
  {
   "cell_type": "code",
   "execution_count": 17,
   "id": "a6350ab2-c355-4598-a15f-294e0898c9dc",
   "metadata": {},
   "outputs": [
    {
     "name": "stdout",
     "output_type": "stream",
     "text": [
      "my details {1, 'pass', 3.03, 'Mani'}\n",
      "<class 'set'>\n",
      "{1, 3, 4}\n"
     ]
    }
   ],
   "source": [
    "#Set data type\n",
    "''' We can create set data structure by using curly braces{}. \n",
    "Set can store same type and different type of elements.\n",
    "\n",
    "sets are Mutable(add,remove)\n",
    "\n",
    "syntax to create set:\n",
    "name_of_set ={element,.....}'''\n",
    "detail= {1,'Mani', 3.03,'pass',1}\n",
    "print(\"my details\", detail)\n",
    "print(type(detail))\n",
    "\n",
    "#to add or remove the values in set example\n",
    "my_set = {1, 2, 3}\n",
    "my_set.add(4)             # Adds an element\n",
    "my_set.remove(2)          # Removes an element\n",
    "print(my_set)             # Output: {1, 3, 4}\n"
   ]
  },
  {
   "cell_type": "code",
   "execution_count": 7,
   "id": "6a475d70-6ef5-4048-97cd-d4be6560b649",
   "metadata": {},
   "outputs": [
    {
     "name": "stdout",
     "output_type": "stream",
     "text": [
      "my favourite books {'Rich dad and Poor dad', \"Build don't talk\", 'The mind and the Body'}\n",
      "<class 'set'>\n"
     ]
    }
   ],
   "source": [
    "'''Create a set of your favorite books then print it and its data type?'''\n",
    "favourite_books = {\"Build don't talk\", \"The mind and the Body\", \"Rich dad and Poor dad\"}\n",
    "print(\"my favourite books\",favourite_books)\n",
    "print(type(favourite_books))"
   ]
  },
  {
   "cell_type": "code",
   "execution_count": 14,
   "id": "4c530931-a6c1-417e-a251-b759d1726746",
   "metadata": {},
   "outputs": [
    {
     "name": "stdout",
     "output_type": "stream",
     "text": [
      "Names {1: 'Mani', 2: 'Chenna', 3: 'Kesava', 4: 'Reddy'}\n",
      "<class 'dict'>\n",
      "{'a': 10, 'c': 3}\n"
     ]
    }
   ],
   "source": [
    "#Dictionary data type\n",
    "''' we can create dictionary type by using curly braces{}.\n",
    "dict represents a group of elements in the form of key value pairs like map.\n",
    "dictionaries are mutable.\n",
    "syntax to create dictionary:\n",
    "name_of_the_dictionary={Key:value,....}'''\n",
    "Info={1:'Mani',2:'Chenna',3:'Kesava', 4:'Reddy'}\n",
    "print(\"Names\",Info)\n",
    "print(type(Info))\n",
    "\n",
    "#to add or remove the velues example\n",
    "my_dict = {\"a\": 1, \"b\": 2}\n",
    "my_dict[\"c\"] = 3          # Adds a key-value pair\n",
    "del my_dict[\"b\"]          # Removes a key-value pair\n",
    "my_dict[\"a\"] = 10         # Modifies a value\n",
    "print(my_dict)            # Output: {'a': 10, 'c': 3}\n"
   ]
  },
  {
   "cell_type": "code",
   "execution_count": null,
   "id": "b52b55ff-37e2-4eba-b466-e189eaad5067",
   "metadata": {},
   "outputs": [
    {
     "name": "stdout",
     "output_type": "stream",
     "text": [
      "Players {'Mani': 69, 'Chenna': 4, 'Kesava': 9, 'Reddy': 99}\n",
      "<class 'dict'>\n"
     ]
    }
   ],
   "source": [
    "'''Create a football player and jersey pair of dictionary then print it and its data type?'''\n",
    "Cricket_players={'Mani':69, 'Chenna': 4,'Kesava':9, 'Reddy':99}\n",
    "print(\"Players\",Cricket_players)\n",
    "print(type(Cricket_players))"
   ]
  },
  {
   "cell_type": "code",
   "execution_count": 19,
   "id": "4f3c5ee1-3510-4af7-96b6-8e6258d0fca7",
   "metadata": {},
   "outputs": [
    {
     "data": {
      "text/plain": [
       "'Based on requirements , developers/programmers can convert from one data type into another\\ndata type explicitly, this is called type conversion. /n\\nPython provides the following inbuilt functions to convert from one type to another type.\\n- int(): convert from other type into int type\\n- float(): convert from other type into float type\\n- complex(): convert from other type to complex.\\n-bool(): convert form other type into bool type.\\n-str(): convert from other type into str type.'"
      ]
     },
     "execution_count": 19,
     "metadata": {},
     "output_type": "execute_result"
    }
   ],
   "source": [
    "#Conversion of data types\n",
    "\"\"\"Based on requirements , developers/programmers can convert from one data type into another\n",
    "data type explicitly, this is called type conversion.\n",
    "Python provides the following inbuilt functions to convert from one type to another type.\n",
    "- int(): convert from other type into int type\n",
    "- float(): convert from other type into float type\n",
    "- complex(): convert from other type to complex.\n",
    "-bool(): convert form other type into bool type.\n",
    "-str(): convert from other type into str type.\"\"\"\n"
   ]
  },
  {
   "cell_type": "code",
   "execution_count": 20,
   "id": "c7afb2d9-899e-4eff-8867-3fbc96257d57",
   "metadata": {},
   "outputs": [
    {
     "name": "stdout",
     "output_type": "stream",
     "text": [
      "65.0\n",
      "<class 'float'>\n"
     ]
    }
   ],
   "source": [
    "#convert to float\n",
    "i = 65\n",
    "itf = float(i) #Integer to float\n",
    "print(itf)\n",
    "print(type(itf))"
   ]
  },
  {
   "cell_type": "code",
   "execution_count": 25,
   "id": "0e1367e6-b550-4764-bfb1-3d9df48c4117",
   "metadata": {},
   "outputs": [
    {
     "name": "stdout",
     "output_type": "stream",
     "text": [
      "65\n",
      "<class 'int'>\n"
     ]
    }
   ],
   "source": [
    "#convert to integer\n",
    "i= 65.89\n",
    "fti=int(i) #float to integer\n",
    "print(fti)\n",
    "print(type(fti))\n"
   ]
  },
  {
   "cell_type": "code",
   "execution_count": 19,
   "id": "37814710-74e8-4966-8356-b7001ea42037",
   "metadata": {},
   "outputs": [
    {
     "name": "stdout",
     "output_type": "stream",
     "text": [
      "123\n",
      "<class 'int'>\n"
     ]
    }
   ],
   "source": [
    "#Convert string to integer\n",
    "my_string ='123'\n",
    "sti = int(my_string,10) #str(No.) to integer\n",
    "print(sti)\n",
    "print(type(sti))"
   ]
  },
  {
   "cell_type": "code",
   "execution_count": 34,
   "id": "ca1a5ae0-fa74-4a3e-8d04-d3738204abb9",
   "metadata": {},
   "outputs": [
    {
     "name": "stdout",
     "output_type": "stream",
     "text": [
      "65\n",
      "<class 'int'>\n"
     ]
    }
   ],
   "source": [
    "#convert character to integer\n",
    "ch ='A' # character to integer(ASCII)\n",
    "cti = ord(ch)\n",
    "print(cti)\n",
    "print(type(cti))\n",
    "\n",
    "#What is this 'ord' why we are using ord instead of int()\n",
    "'''\n",
    "What is ord()?\n",
    "ord(character): This function takes a single character as input and returns the integer representation of that character in the ASCII or Unicode encoding.\n",
    "Example:\n",
    "python\n",
    "Copy code\n",
    "ord('A')  # Output: 65 (ASCII value of 'A')\n",
    "ord('a')  # Output: 97 (ASCII value of 'a')\n",
    "ord('0')  # Output: 48 (ASCII value of '0')\n",
    "Why Use ord() Instead of int()?\n",
    "Purpose of ord():\n",
    "\n",
    "ord() is specifically designed to convert a single character to its corresponding ASCII (or Unicode) integer value.\n",
    "Example:\n",
    "python\n",
    "Copy code\n",
    "ord('A')  # Returns 65\n",
    "Purpose of int():\n",
    "\n",
    "int() is used to convert a string (or other number-like types) to an integer. It doesn't understand single characters like 'A' unless they represent numbers.\n",
    "Example:\n",
    "python\n",
    "Copy code\n",
    "int('123')  # Returns 123\n",
    "int('A')    # Raises a ValueError: invalid literal for int()\n",
    "Use Case for ord():\n",
    "When you need the numeric representation of a character (like its ASCII code), ord() is the correct function to use.\n",
    "\n",
    "Use Case for int():\n",
    "When you need to convert a string of digits into an actual integer value.'''"
   ]
  },
  {
   "cell_type": "code",
   "execution_count": 39,
   "id": "28209fd1-c397-4929-b8ea-34906ab70afe",
   "metadata": {},
   "outputs": [
    {
     "name": "stdout",
     "output_type": "stream",
     "text": [
      "(6+0j)\n",
      "<class 'complex'>\n"
     ]
    }
   ],
   "source": [
    "#convert to complex\n",
    "r=6 #real no. to complex no.\n",
    "rtc = complex(r)\n",
    "print(rtc)\n",
    "print(type(rtc))"
   ]
  },
  {
   "cell_type": "code",
   "execution_count": 1,
   "id": "796bc9a9-1d36-4402-a65d-5dbd6575c449",
   "metadata": {},
   "outputs": [
    {
     "name": "stdout",
     "output_type": "stream",
     "text": [
      "65\n",
      "<class 'str'>\n"
     ]
    }
   ],
   "source": [
    "#convert integer to string\n",
    "i =  65\n",
    "itst = str(i) #int to str\n",
    "print(itst)\n",
    "print(type(itst))"
   ]
  },
  {
   "cell_type": "code",
   "execution_count": 8,
   "id": "ddf49e60-97c6-45fd-8a7d-0945e9c37b18",
   "metadata": {},
   "outputs": [
    {
     "name": "stdout",
     "output_type": "stream",
     "text": [
      "a\n",
      "<class 'str'>\n",
      "A\n",
      "<class 'str'>\n"
     ]
    }
   ],
   "source": [
    "#convert ASCII to string \n",
    "n = 97\n",
    "nts = chr(n) #ASCII value to str \n",
    "print(nts)\n",
    "print(type(nts))\n",
    "\n",
    "#or\n",
    "nts = chr(65)\n",
    "print(nts)\n",
    "print(type(nts))"
   ]
  },
  {
   "cell_type": "code",
   "execution_count": 9,
   "id": "b60aa2dc-a151-449c-9f4e-661fef5ccbb5",
   "metadata": {},
   "outputs": [
    {
     "name": "stdout",
     "output_type": "stream",
     "text": [
      "[1, 'Mani', 3.03, 'Pass']\n",
      "<class 'list'>\n"
     ]
    }
   ],
   "source": [
    "#convert to list\n",
    "t = (1, 'Mani', 3.03, 'Pass')\n",
    "ttl = list(t) #tuple to list \n",
    "print(ttl)\n",
    "print(type(ttl))"
   ]
  },
  {
   "cell_type": "code",
   "execution_count": 10,
   "id": "f223ab84-2ed1-4a58-a35c-717a807a8614",
   "metadata": {},
   "outputs": [
    {
     "name": "stdout",
     "output_type": "stream",
     "text": [
      "[1, 3.03, 'Pass', 'Mani']\n",
      "<class 'list'>\n"
     ]
    }
   ],
   "source": [
    "#convert set to list \n",
    "s = {1, 'Mani', 3.03, 'Pass'}\n",
    "stl = list(s) #set to list\n",
    "print(stl)\n",
    "print(type(stl))"
   ]
  },
  {
   "cell_type": "code",
   "execution_count": 11,
   "id": "f101b454-172d-449f-89fe-e115775f3898",
   "metadata": {},
   "outputs": [
    {
     "name": "stdout",
     "output_type": "stream",
     "text": [
      "(1, 'Mani', 3.03, 'Pass')\n",
      "<class 'tuple'>\n"
     ]
    }
   ],
   "source": [
    "#Convert list to tuple \n",
    "l = [1, 'Mani', 3.03, 'Pass']\n",
    "ltt = tuple(l) #list to tuple \n",
    "print(ltt)\n",
    "print(type(ltt))"
   ]
  },
  {
   "cell_type": "code",
   "execution_count": 12,
   "id": "194bac9a-638c-46d2-a70b-901d124e82ff",
   "metadata": {},
   "outputs": [
    {
     "name": "stdout",
     "output_type": "stream",
     "text": [
      "(1, 3.03, 'Pass', 'Mani')\n",
      "<class 'tuple'>\n"
     ]
    }
   ],
   "source": [
    "#convert set to tuple\n",
    "s = { 1, 'Mani' , 3.03, 'Pass'}\n",
    "stt = tuple(s) #set to tuple\n",
    "print(stt)\n",
    "print(type(stt))\n"
   ]
  },
  {
   "cell_type": "code",
   "execution_count": 13,
   "id": "3f4c0db2-4496-4826-8316-73cd1fc0ded9",
   "metadata": {},
   "outputs": [
    {
     "name": "stdout",
     "output_type": "stream",
     "text": [
      "{1, 3.03, 'Pass', 'Mani'}\n",
      "<class 'set'>\n"
     ]
    }
   ],
   "source": [
    "#convert list to set \n",
    "l = [1, 'Mani', 3.03, 'Pass']\n",
    "lts= set(l) # list to set \n",
    "print(lts)\n",
    "print(type(lts))"
   ]
  },
  {
   "cell_type": "code",
   "execution_count": 14,
   "id": "2f6ccbd9-23d8-4ae6-ae28-d563e6852ba2",
   "metadata": {},
   "outputs": [
    {
     "name": "stdout",
     "output_type": "stream",
     "text": [
      "{1, 3.03, 'Pass', 'Mani'}\n",
      "<class 'set'>\n"
     ]
    }
   ],
   "source": [
    "#convert tuple to set\n",
    "t = ( 1, 'Mani', 3.03, 'Pass')\n",
    "tts = set(t)\n",
    "print(tts)\n",
    "print(type(tts))"
   ]
  },
  {
   "cell_type": "code",
   "execution_count": 16,
   "id": "0e0a0a8d-8cd0-471f-aa67-d68a12c80cf5",
   "metadata": {},
   "outputs": [
    {
     "data": {
      "text/plain": [
       "\" \\n-Data type is a type of data that to be stored in a variable.\\n-type() is a function, which is used to chech data type of a variable.\\n-python's built-in data types include None, boolean , numeric, and sequence types.\\n-Comment is a programmer- readable explanation or annotation in the source code.\""
      ]
     },
     "execution_count": 16,
     "metadata": {},
     "output_type": "execute_result"
    }
   ],
   "source": [
    "''' \n",
    "-Data type is a type of data that to be stored in a variable.\n",
    "-type() is a function, which is used to check data type of a variable.\n",
    "-python's built-in data types include None, boolean , numeric, and sequence types.\n",
    "-Comment is a programmer- readable explanation or annotation in the source code.'''"
   ]
  },
  {
   "cell_type": "code",
   "execution_count": 17,
   "id": "e26aa259-655a-46ec-8368-76ed6d510c83",
   "metadata": {},
   "outputs": [
    {
     "data": {
      "text/plain": [
       "' Computer is a device that can accept input data from a user and process the given data to produce a desired\\noutput. Nevertheless processing data means doing some sort of calculations on the given inputs to give output\\nback to the user. Programming is more that storing data in a variable, operators allow us to do exciting things\\nwith the data.'"
      ]
     },
     "execution_count": 17,
     "metadata": {},
     "output_type": "execute_result"
    }
   ],
   "source": [
    "#Introduction to Operators \n",
    "''' Computer is a device that can accept input data from a user and process the given data to produce a desired\n",
    "output. Nevertheless processing data means doing some sort of calculations on the given inputs to give output\n",
    "back to the user. Programming is more that storing data in a variable, operators allow us to do exciting things\n",
    "with the data.'''\n"
   ]
  },
  {
   "cell_type": "code",
   "execution_count": 20,
   "id": "787c8c84-4559-453b-bc03-48894b590d1a",
   "metadata": {},
   "outputs": [
    {
     "name": "stdout",
     "output_type": "stream",
     "text": [
      "3\n"
     ]
    },
    {
     "data": {
      "text/plain": [
       "\"In the above example , first we assigned values to two variables 'a' and 'b' and then we added both the \\nvariables and stored the result in variable 'c'.\\nNote: The symbols '+' and '=' are called operators and the varibles a,b,c on which operation is being performed are called operands.\""
      ]
     },
     "execution_count": 20,
     "metadata": {},
     "output_type": "execute_result"
    }
   ],
   "source": [
    "#What is an operator?\n",
    "''' An operator is a symbol which is applied on some operands (usually variables), to perform certain action or\n",
    "operation.'''\n",
    "#example\n",
    "a=1\n",
    "b=2\n",
    "c=a+b\n",
    "print(c)\n",
    "'''In the above example , first we assigned values to two variables 'a' and 'b' and then we added both the \n",
    "variables and stored the result in variable 'c'.\n",
    "Note: The symbols '+' and '=' are called operators and the varibles a,b,c on which operation is being performed are called operands.'''\n"
   ]
  },
  {
   "cell_type": "code",
   "execution_count": 21,
   "id": "fd22571c-6891-4338-a2ba-d2e078f2ed30",
   "metadata": {},
   "outputs": [
    {
     "data": {
      "text/plain": [
       "\"1. Urinary operator : if the operator acts on a single operand then it's caled unary operator.\\nex: in '-5' the operator '-' is used tp make the (single) operand '5' a negative value.\\n2. Binary Operator : if hte operator acts on two operands then is's called a binary operator.\\nex: '+' operators need two variables(operands) to perform addition operation.\\n3. Ternary operator: if the operator acts on three operands then it's called a ternary operator.\\nTypes of operators in python:\\n1. unary operator\\n2. assignment operator\\n3. arithmetic operator\\n4. compound operator\\n5. Relational operator\\n6. identify operator\\n7. Logical operator\\n8. Bitwise operator\\n9. Membership Operators\""
      ]
     },
     "execution_count": 21,
     "metadata": {},
     "output_type": "execute_result"
    }
   ],
   "source": [
    "#Basic classification of operators \n",
    "'''1. Urinary operator : if the operator acts on a single operand then it's called unary operator.\n",
    "ex: in '-5' the operator '-' is used to make the (single) operand '5' a negative value.\n",
    "2. Binary Operator : if the operator acts on two operands then it's called a binary operator.\n",
    "ex: '+' operators need two variables(operands) to perform addition operation.\n",
    "3. Ternary operator: if the operator acts on three operands then it's called a ternary operator.\n",
    "Types of operators in python:\n",
    "1. unary operator\n",
    "2. assignment operator\n",
    "3. arithmetic operator\n",
    "4. compound operator\n",
    "5. Relational operator\n",
    "6. identify operator\n",
    "7. Logical operator\n",
    "8. Bitwise operator\n",
    "9. Membership Operators'''"
   ]
  },
  {
   "cell_type": "code",
   "execution_count": 37,
   "id": "46972da4-de38-4299-bfab-012f1cf5b9e2",
   "metadata": {},
   "outputs": [
    {
     "name": "stdout",
     "output_type": "stream",
     "text": [
      "10\n",
      "-10\n",
      "10\n"
     ]
    }
   ],
   "source": [
    "#Unary operator\n",
    "'''The operator '-' is called unary minus operator. It is used to negate the number.\n",
    "- this operator operates on a single operand, hence unary operator. This is used to change a positive number to a negative number and vice-versa.'''\n",
    "a= 10\n",
    "print(a)\n",
    "print(-10)\n",
    "print(+10)"
   ]
  },
  {
   "cell_type": "code",
   "execution_count": 23,
   "id": "2501312d-76c7-4a26-a92a-ff0bb86b7d88",
   "metadata": {},
   "outputs": [
    {
     "name": "stdout",
     "output_type": "stream",
     "text": [
      "Old variable is 10\n",
      "Copied variable is 10\n",
      "Memory address of old variable: 140719594181704\n",
      "Memory address of copy variable: 140719594181704\n"
     ]
    }
   ],
   "source": [
    "#Assignment operator\n",
    "'''Assignment operators are operators which are used for assigning values to variables. '=' is the assignment operator.\n",
    "syntax:\n",
    "new_variable = old_variable'''\n",
    "v = 10\n",
    "c = v\n",
    "print(\"Old variable is\", v)\n",
    "print(\"Copied variable is\", c)\n",
    "print(\"Memory address of old variable:\", id(v))\n",
    "print(\"Memory address of copy variable:\", id(c))"
   ]
  },
  {
   "cell_type": "code",
   "execution_count": 39,
   "id": "fe77ecb0-1c2e-45fb-8948-43916881b360",
   "metadata": {},
   "outputs": [
    {
     "name": "stdout",
     "output_type": "stream",
     "text": [
      "old variable is Mani\n",
      "new variable is Mani\n",
      "MA of old variable 1975221427184\n",
      "MA of new variable 1975221427184\n"
     ]
    }
   ],
   "source": [
    "'''Create a string variable \"name\" and store your name then copy it to a \"new\" variable,\n",
    " after that print both variables and their memory location?'''\n",
    "name = \"Mani\"\n",
    "new = name\n",
    "print(\"old variable is\", name)\n",
    "print(\"new variable is\", new)\n",
    "print(\"MA of old variable\",id(name))\n",
    "print(\"MA of new variable\",id(new))"
   ]
  },
  {
   "cell_type": "code",
   "execution_count": 1,
   "id": "4c6c85f8-c658-4fbc-ac3a-d34a97858e41",
   "metadata": {},
   "outputs": [
    {
     "data": {
      "text/plain": [
       "'-Division operator / always performs floating point arithmetic, so it returns float value.\\n-Floor division(//) can perform both floating point and integral as well.\\n-if values are int type, then result is int type.\\n-if at least one value is float type, then the result is of float type.'"
      ]
     },
     "execution_count": 1,
     "metadata": {},
     "output_type": "execute_result"
    }
   ],
   "source": [
    "#Arithmetic Operators \n",
    "'''Arithmetic operators are operators which are used to perform basic mathematical \n",
    "calculations like addition, substraction, division, etc. they are: +,-,/,%,*,//.'''\n",
    "#NOTE:\n",
    "'''-Division operator / always performs floating point arithmetic, so it returns float value.\n",
    "-Floor division(//) can perform both floating point and integral as well.\n",
    "-if values are int type, then result is int type.\n",
    "-if at least one value is float type, then the result is of float type.'''"
   ]
  },
  {
   "cell_type": "code",
   "execution_count": 41,
   "id": "9bb57c26-bed9-410e-9db9-b81f60029999",
   "metadata": {},
   "outputs": [
    {
     "name": "stdout",
     "output_type": "stream",
     "text": [
      "32\n",
      "8\n",
      "1.6666666666666667\n",
      "1\n",
      "8\n",
      "240\n",
      "4096000000000000\n",
      "12.0\n"
     ]
    }
   ],
   "source": [
    "a = 20\n",
    "b = 12\n",
    "print(a+b)# addition\n",
    "print(a-b)#substraction\n",
    "print(a/b)#division\n",
    "print(a//b)#Quotient\n",
    "print(a%b)#Remainder\n",
    "print(a*b)#multiplication\n",
    "print(a**b)#square( this means a^b)20^12 =4096000000000000\n",
    "print(a-b+3*4/3)#BODMAS\n"
   ]
  },
  {
   "cell_type": "code",
   "execution_count": null,
   "id": "a653f918-0581-474e-884c-026062deb8e2",
   "metadata": {},
   "outputs": [
    {
     "name": "stdout",
     "output_type": "stream",
     "text": [
      "Enter a number: 12\n",
      "Enter a another number: 2\n"
     ]
    },
    {
     "name": "stdout",
     "output_type": "stream",
     "text": [
      "Average of two numbers is : 7.0\n"
     ]
    }
   ],
   "source": [
    "'''Create two integer variables \"a\" and \"b\" accept values from a user then calculate their\n",
    " average?'''\n",
    "''' In this code two doubts \n",
    "1. how to enter integer as input .\n",
    "2. to find average keep brackets for the sum , because python by default follows the bodmas rule.'''\n",
    "a = int(input(\"Enter a number:\"))\n",
    "b = int(input(\"Enter a another number:\"))\n",
    "c = (a+b)/2\n",
    "print(\"Average of two numbers is :\",c)\n",
    "\n",
    "\n"
   ]
  },
  {
   "cell_type": "code",
   "execution_count": 10,
   "id": "9df35163-d74a-48ac-8549-0ce0fcaeb7cb",
   "metadata": {},
   "outputs": [
    {
     "name": "stdout",
     "output_type": "stream",
     "text": [
      "2.302585092994046\n",
      "1.0\n",
      "0.8939966636005579\n",
      "1.5707963267948966\n",
      "1.0\n",
      "8.0\n",
      "7.38905609893065\n",
      "4.0\n",
      "120\n",
      "5\n",
      "4\n",
      "2.718281828459045\n",
      "3.141592653589793\n"
     ]
    }
   ],
   "source": [
    "#math() function\n",
    "#syntax for math function\n",
    "'''from math import *\n",
    "function(value)'''\n",
    "'''\n",
    "Global frame\n",
    "acos\timported function acos()\n",
    "acosh\timported function acosh()\n",
    "asin\timported function asin()\n",
    "asinh\timported function asinh()\n",
    "atan\timported function atan()\n",
    "atan2\timported function atan2()\n",
    "atanh\timported function atanh()\n",
    "cbrt\timported function cbrt()\n",
    "ceil\timported function ceil()\n",
    "copysign\timported function copysign()\n",
    "cos\timported function cos()\n",
    "cosh\timported function cosh()\n",
    "degrees\timported function degrees()\n",
    "dist\timported function dist()\n",
    "erf\timported function erf()\n",
    "erfc\timported function erfc()\n",
    "exp\timported function exp()\n",
    "exp2\timported function exp2()\n",
    "expm1\timported function expm1()\n",
    "fabs\timported function fabs()\n",
    "factorial\timported function factorial()\n",
    "floor\timported function floor()\n",
    "fmod\timported function fmod()\n",
    "frexp\timported function frexp()\n",
    "fsum\timported function fsum()\n",
    "gamma\timported function gamma()\n",
    "gcd\timported function gcd()\n",
    "hypot\timported function hypot()\n",
    "isclose\timported function isclose()\n",
    "isfinite\timported function isfinite()\n",
    "isinf\timported function isinf()\n",
    "isnan\timported function isnan()\n",
    "isqrt\timported function isqrt()\n",
    "lcm\timported function lcm()\n",
    "ldexp\timported function ldexp()\n",
    "lgamma\timported function lgamma()\n",
    "log\timported function log()\n",
    "log1p\timported function log1p()\n",
    "log10\timported function log10()\n",
    "log2\timported function log2()\n",
    "modf\timported function modf()\n",
    "pow\timported function pow()\n",
    "radians\timported function radians()\n",
    "remainder\timported function remainder()\n",
    "sin\timported function sin()\n",
    "sinh\timported function sinh()\n",
    "sqrt\timported function sqrt()\n",
    "tan\timported function tan()\n",
    "tanh\timported function tanh()\n",
    "trunc\timported function trunc()\n",
    "prod\timported function prod()\n",
    "perm\timported function perm()\n",
    "comb\timported function comb()\n",
    "nextafter\timported function nextafter()\n",
    "ulp\timported function ulp()\n",
    "pi\t3.1416\n",
    "e\t2.7183\n",
    "tau\t6.2832\n",
    "inf\tInfinity\n",
    "nan\tNaN'''\n",
    "from math import *\n",
    "print(log(10)) #log base e\n",
    "print(log10(10)) #log base 10\n",
    "print(sin(90)) #sin of radian\n",
    "print(radians(90)) #radian to deg\n",
    "print(sin(radians(90))) #sin of deg\n",
    "print(pow(2,3)) #2 power of 3\n",
    "print(exp(2)) #e power of 2\n",
    "print(sqrt(16)) #square root\n",
    "print(factorial(5)) #factorial\n",
    "print(ceil(4.6)) #largest integer\n",
    "print(floor(4.6)) #smallest integer\n",
    "print(e) #constant e\n",
    "print(pi) #constant pi"
   ]
  },
  {
   "cell_type": "code",
   "execution_count": 21,
   "id": "7baa0911-e7fb-4261-a156-28fca8970f11",
   "metadata": {},
   "outputs": [
    {
     "name": "stdout",
     "output_type": "stream",
     "text": [
      "1.0\n",
      "-0.4480736161291701\n",
      "100000.0\n",
      "25.0\n",
      "7\n",
      "6\n"
     ]
    }
   ],
   "source": [
    "from math import *\n",
    "print(log(e))\n",
    "print(cos(90))\n",
    "print(pow(10,5))\n",
    "print(sqrt(625))\n",
    "print(ceil(6.5))#The ceil function rounds the given number up to the nearest integer\n",
    "print(floor(6.5))#The floor() function returns the largest integer that is less than or equal to the given number."
   ]
  },
  {
   "cell_type": "code",
   "execution_count": 23,
   "id": "934dc017-f449-4c23-bfa9-d0e30f79f3d3",
   "metadata": {},
   "outputs": [
    {
     "name": "stdout",
     "output_type": "stream",
     "text": [
      "Balance before deposit: 12345\n",
      "Balance after deposit: 19134\n"
     ]
    }
   ],
   "source": [
    "# What if we want to increase value of a variable? Yes we can, How? Let us see\n",
    "balance = 12345\n",
    "print(\"Balance before deposit:\", balance)\n",
    "deposit =6789\n",
    "balance = balance + deposit\n",
    "print(\"Balance after deposit:\", balance)"
   ]
  },
  {
   "cell_type": "code",
   "execution_count": 24,
   "id": "ef4acb6b-261e-45c5-a31e-ac1116a60158",
   "metadata": {},
   "outputs": [
    {
     "data": {
      "text/plain": [
       "'Compound Operators are operators which is combination of some arithmetic and assignment operators\\n(+=,-=,=,/=,%=,*=,//=)\\nsyntax:\\nresult_v operator = operand_v\\n'"
      ]
     },
     "execution_count": 24,
     "metadata": {},
     "output_type": "execute_result"
    }
   ],
   "source": [
    "#Compound Operator\n",
    "'''Compound Operators are operators which is combination of some arithmetic and assignment operators\n",
    "(+=,-=,=,/=,%=,*=,//=)\n",
    "syntax:\n",
    "result_v operator = operand_v\n",
    "'''\n",
    "#example balance = balance + deposit is same as balance += deposit\n",
    "#that means add balance and deposit  then store the result in variable balance."
   ]
  },
  {
   "cell_type": "code",
   "execution_count": 26,
   "id": "b46ac4a1-7010-40cb-9bc8-448a7c03c9c3",
   "metadata": {},
   "outputs": [
    {
     "name": "stdout",
     "output_type": "stream",
     "text": [
      "Balance before deposit: 1234\n",
      "Balance after deposit : 6912\n"
     ]
    }
   ],
   "source": [
    "#the above example using compound operator\n",
    "balance =  1234\n",
    "print(\"Balance before deposit:\", balance)\n",
    "deposit = 5678\n",
    "balance += deposit\n",
    "print(\"Balance after deposit :\", balance)"
   ]
  },
  {
   "cell_type": "code",
   "execution_count": 28,
   "id": "73d77c25-8dda-42b8-8213-0091794d1eee",
   "metadata": {},
   "outputs": [
    {
     "name": "stdout",
     "output_type": "stream",
     "text": [
      "5\n",
      "2\n",
      "6\n",
      "2\n",
      "2\n",
      "8\n"
     ]
    }
   ],
   "source": [
    "#compound operators\n",
    "a, b = 2, 3\n",
    "a+=b #addition assignment\n",
    "print(a)\n",
    "a-=b#substraction assignment\n",
    "print(a)\n",
    "a*=b#Multiplication assignment \n",
    "print(a)\n",
    "a//=b# Quotient Assignment\n",
    "print(a)\n",
    "a%=b# Remainder assignment \n",
    "print(a)\n",
    "a**=b #Square assignment\n",
    "print(a)\n"
   ]
  },
  {
   "cell_type": "code",
   "execution_count": 38,
   "id": "b947dd63-7cd5-4cb8-a9f7-e0339ecd38f7",
   "metadata": {},
   "outputs": [
    {
     "name": "stdout",
     "output_type": "stream",
     "text": [
      "Enter a number : 12\n",
      "Enter another number: 2\n"
     ]
    },
    {
     "name": "stdout",
     "output_type": "stream",
     "text": [
      "The average is : 7\n"
     ]
    }
   ],
   "source": [
    "''' Create two integer variables \"avg\" and \"b\" accept from user then calculate their average using compound operators'''\n",
    "avg = int(input(\"Enter a number :\"))\n",
    "b= int(input(\"Enter another number:\"))\n",
    "avg+=b\n",
    "avg//=2 # Calculate the average , and if float number required use'/' floating-point division or else use integer division'//'.\n",
    "print(\"The average is :\", avg)\n"
   ]
  },
  {
   "cell_type": "code",
   "execution_count": 39,
   "id": "29e8a664-2b48-4fc4-a627-a7275f865c9c",
   "metadata": {},
   "outputs": [
    {
     "name": "stdout",
     "output_type": "stream",
     "text": [
      "False\n",
      "True\n",
      "False\n",
      "True\n",
      "True\n",
      "False\n"
     ]
    }
   ],
   "source": [
    "#Relational Operators\n",
    "'''Relational operators which are used to chekc for some relation like greater than  or less than etc.\n",
    "between operands.\n",
    "they are: <, >, <=, >=, ==, !=.\n",
    "these are used to compare two values for some relation and return booleans(True or Flase) \n",
    "depending the relation.'''\n",
    "#example\n",
    "print(1==2) #equal\n",
    "print(1!=2) #Not Equal\n",
    "print(1>2) #Greater Than\n",
    "print(1<2)# Less than\n",
    "print(1<=2)#less than or equal\n",
    "print(1>=2)#greater than or equal\n"
   ]
  },
  {
   "cell_type": "code",
   "execution_count": 41,
   "id": "998cc9fa-88b2-4201-8afc-d10b015e4947",
   "metadata": {},
   "outputs": [
    {
     "name": "stdout",
     "output_type": "stream",
     "text": [
      "Enter your age: 21\n",
      "Enter your friend age: 22\n"
     ]
    },
    {
     "name": "stdout",
     "output_type": "stream",
     "text": [
      "False\n",
      "True\n",
      "True\n",
      "False\n",
      "True\n",
      "False\n"
     ]
    }
   ],
   "source": [
    "#Create two variables \"my_age\" and \"friend_age\" accept from user then compare them?\n",
    "my_age = int(input(\"Enter your age:\"))\n",
    "friend_age = int(input(\"Enter your friend age:\"))\n",
    "print(my_age == friend_age)\n",
    "print(my_age != friend_age)\n",
    "print(my_age < friend_age)\n",
    "print(my_age > friend_age)\n",
    "print(my_age <= friend_age)\n",
    "print(my_age >= friend_age)"
   ]
  },
  {
   "cell_type": "code",
   "execution_count": 45,
   "id": "f5a7b0d9-42c5-43b4-9fa6-0cc8b1cde5ea",
   "metadata": {},
   "outputs": [
    {
     "name": "stdout",
     "output_type": "stream",
     "text": [
      "True\n",
      "False\n",
      "False\n",
      "True\n",
      "140706681624104\n",
      "140706681624104\n",
      "140706681624264\n"
     ]
    }
   ],
   "source": [
    "#Identity Operators\n",
    "''' Identity operators are operators which are used to check for identity by comparing the memory location (address) of two variables.\n",
    "With these operators, we will be able to know whether the two variables are pointing to the same location or not.\n",
    "Note: The memory location of the object can be seen using id() function.\n",
    "there are two identity operators, is and is not.\n",
    "1. is :\n",
    "* A is B returns True, If both A and B are pointing to the same address.\n",
    "* A is B returns False, If both A and B are  not pointing to the same address.\n",
    "2. is not:\n",
    "* A is not B returns True, If both A and B are not pointing to the same object.\n",
    "*A is not B returns False, if Both A and B are pointing to the same object .'''\n",
    "'''Note: Identity operators are not comparing values of objects. They compare memory address\n",
    "of objects. If we want to compare value of objects, we should use relational operator \"==\".'''\n",
    "#example identity operators\n",
    "a, b, c = 25,25,30\n",
    "print(a is b)\n",
    "print(a is c)\n",
    "print(a is not b)\n",
    "print(a is not c)\n",
    "print(id(a))\n",
    "print(id(b))\n",
    "print(id(c))\n"
   ]
  },
  {
   "cell_type": "code",
   "execution_count": 49,
   "id": "8f388927-343e-40c7-844a-1375af089a79",
   "metadata": {},
   "outputs": [
    {
     "name": "stdout",
     "output_type": "stream",
     "text": [
      "False\n",
      "True\n",
      "140706681623368\n",
      "140706681623432\n"
     ]
    }
   ],
   "source": [
    "\"\"\"Create two variables \"a\" and \"b\" then compare them?\"\"\"\n",
    "a = 2\n",
    "b = 4\n",
    "print(a is b)\n",
    "print(a is not b)\n",
    "print(id(a))\n",
    "print(id(b))\n"
   ]
  },
  {
   "cell_type": "code",
   "execution_count": 50,
   "id": "04e35aba-99ba-4ed6-829b-2cad8603a157",
   "metadata": {},
   "outputs": [
    {
     "name": "stdout",
     "output_type": "stream",
     "text": [
      "2091817160896\n",
      "2091817155456\n",
      "2091817160896\n",
      "True\n",
      "False\n",
      "True\n",
      "True\n"
     ]
    }
   ],
   "source": [
    "#Identity Operator vs relational operators\n",
    "a=[]\n",
    "b=[]\n",
    "c=a\n",
    "print(id(a))\n",
    "print(id(b))\n",
    "print(id(c))\n",
    "print(a==b)\n",
    "print(a is b)\n",
    "print(a is c)\n",
    "print(a==c)"
   ]
  },
  {
   "cell_type": "code",
   "execution_count": null,
   "id": "3c915ec8-0864-408a-abc6-6546a5f2d01e",
   "metadata": {},
   "outputs": [],
   "source": [
    " ''' \n",
    " * an operator is a symbol used to perform actions or operations on variables.\n",
    " *There are 9 types of operators supported by python.\n",
    " *Assignment operators assign values to variables using the '=' symbol.\n",
    " *Arithmetic operators perform basic mathematical calculations such as +,-,*, and %.\n",
    " *Compound operators combine arithmetic and assignment operators(+=,-=, =, /=, %=,*=, //=).\n",
    " *relational operators check realtions between operands, such as greater than or less than.\n",
    " *Identity operators compare the memory location(address) of two variables to check for identity.\n",
    " '''"
   ]
  },
  {
   "cell_type": "code",
   "execution_count": null,
   "id": "1beb6ffb-d347-4e40-911e-b76287c39ab9",
   "metadata": {},
   "outputs": [],
   "source": [
    "#Conditional Statement \n",
    "'''Decision making in programming is similar to decision making in real life, in programming\n",
    ", a certain block of code needs  to be executed when some condition is fulfilled.\n",
    ".\n",
    "What is conditional  statement?\n",
    "conditional/ decision making/ statements are statements executed based on the condition.\n",
    "Python interpreter execute sequentially when there is no condition around the statements. If you put \n",
    "some condition for a block of statements, the execution flow may change based on the result\n",
    "evaluated by the condition.\n",
    "There are four types of conditional statements in python. They are as follows.\n",
    "1. If statement\n",
    "2. If else statement \n",
    "3. nested if statement\n",
    "4. if elif else statement \n",
    "'''\n"
   ]
  },
  {
   "cell_type": "code",
   "execution_count": null,
   "id": "6e608037-f087-4ef4-8976-3bc8c6eac646",
   "metadata": {},
   "outputs": [],
   "source": [
    "#If statement\n",
    "'''The if statementis used to test a specific condition. if the condition is true, \n",
    "if-block statement will be executed .\n",
    "The condition of if statement can be any valid logical expression which can be either \n",
    "evaluated to True or False.\n",
    "syntax:\n",
    "if (condition):\n",
    "   if block statement \n",
    "next line of code\n",
    "logic: if condition is true then code inside if body will excute, if false then code after if statment will be executed.'''\n"
   ]
  },
  {
   "cell_type": "code",
   "execution_count": null,
   "id": "06d865fb-101c-4835-bbdf-d90e298badaf",
   "metadata": {},
   "outputs": [],
   "source": [
    "#Indentation\n",
    "'''Indentation is the spaces at the beginning of a code line to indicate a block of code.\n",
    "Note: if statement contains an expression/condition. As per the syntax colon(:) is mandatory\n",
    "otherwise it throws syntax error.\n",
    "-condition gives the result as a bool type , either True or False. If the condition result is True, then if block statements will be executed.\n",
    "If the condition result is False, then next line of code execute.'''\n"
   ]
  },
  {
   "cell_type": "code",
   "execution_count": 52,
   "id": "c78a6365-0e6e-48b9-8bed-183617b4c79c",
   "metadata": {},
   "outputs": [
    {
     "name": "stdout",
     "output_type": "stream",
     "text": [
      "Enter your age\n",
      " 18\n"
     ]
    },
    {
     "name": "stdout",
     "output_type": "stream",
     "text": [
      "Pass for interview.\n"
     ]
    }
   ],
   "source": [
    "#Example \n",
    "'''Suppose you want to hire employees for your company and your main condition is employee's age sould be above 18 because hiring under age is prohibited.\n",
    "let us develop a code to filter job applicants.'''\n",
    "a = int(input(\"Enter your age\\n\"))\n",
    "if a > 17 :\n",
    "    print(\"Pass for interview.\") #if indentation is missed then error will occur."
   ]
  },
  {
   "cell_type": "code",
   "execution_count": 54,
   "id": "91ff3edd-96ae-48ee-836c-13443bf0c300",
   "metadata": {},
   "outputs": [
    {
     "name": "stdout",
     "output_type": "stream",
     "text": [
      "Enter your age:\n",
      " 19\n"
     ]
    },
    {
     "name": "stdout",
     "output_type": "stream",
     "text": [
      "Eligible to vote\n"
     ]
    }
   ],
   "source": [
    "#Create a variable \"age\" and take input from user then check vote eligibility(age>18)?\n",
    "age = int(input(\"Enter your age:\\n\"))\n",
    "if age > 18:\n",
    "    print(\"Eligible to vote\")\n",
    "        \n",
    "          "
   ]
  },
  {
   "cell_type": "code",
   "execution_count": null,
   "id": "21ad004a-32cc-46e6-85d2-a8acabd218f7",
   "metadata": {},
   "outputs": [],
   "source": [
    "#if else statement\n",
    "''''if the condition result is True , then if block statements will be executed. If the condition result is False then else \n",
    "block statements will be executed.\n",
    "Syntax:\n",
    "if (condition):\n",
    "    if block statement\n",
    "else:\n",
    "    else block statement\n",
    "next line of code'''\n",
    "#if condition is true then code inside if body will execute, if false then code inside else body will execute.\n"
   ]
  },
  {
   "cell_type": "code",
   "execution_count": 56,
   "id": "0bc8deb7-c1bd-4fc6-ac98-2afa8545d55c",
   "metadata": {},
   "outputs": [
    {
     "name": "stdout",
     "output_type": "stream",
     "text": [
      "Enter your age\n",
      " 16\n"
     ]
    },
    {
     "name": "stdout",
     "output_type": "stream",
     "text": [
      "Application denied.\n"
     ]
    }
   ],
   "source": [
    "#Example\n",
    "a = int(input(\"Enter your age\\n\"))\n",
    "if a > 17:\n",
    "    print(\"Pass for interview.\")\n",
    "else:\n",
    "    print(\"Application denied.\")\n",
    "    "
   ]
  },
  {
   "cell_type": "code",
   "execution_count": 62,
   "id": "827acabe-ee61-4de5-be0e-a76a7b56bbd6",
   "metadata": {},
   "outputs": [
    {
     "name": "stdout",
     "output_type": "stream",
     "text": [
      "enter your name:\n",
      " king\n"
     ]
    },
    {
     "name": "stdout",
     "output_type": "stream",
     "text": [
      "Login unsuccessful.\n"
     ]
    }
   ],
   "source": [
    "'''Create a variable \"username\" and its value is your name then create log in conditional\n",
    " statement based on username?\n",
    "  Hint: Output looks like below\n",
    " Enter your username\n",
    " john\n",
    " Welcome to facebook.'''\n",
    "username = input(\"enter your name:\\n\")\n",
    "if username == \"mani\":  #Should not forgot the quotes for string.\n",
    "    print(\"Welcome to coding world.\")\n",
    "else:\n",
    "    print(\"Login unsuccessful.\")"
   ]
  },
  {
   "cell_type": "code",
   "execution_count": 63,
   "id": "738fb22d-3b1b-42c7-94fa-6f29e6f645bc",
   "metadata": {},
   "outputs": [
    {
     "name": "stdout",
     "output_type": "stream",
     "text": [
      "False\n",
      "True\n",
      "False\n"
     ]
    }
   ],
   "source": [
    "#Logical operators\n",
    "'''Logical operators are operators which do some logical operation on the operands and return True or Flase.\n",
    "In python, there are three types of logical operators. They are and , or , not. These operators are used to construct compound conditions,combinations of more than\n",
    "one simple condition. Each simple condition gives a boolean value which is evaluated, to return final boolena value.\n",
    "Note: In logical operators, False indicates 0(zero) and True indicates non-zero value. Logical operators on boolean types\n",
    "*and : If both the arguments are True then only the results is True.\n",
    "*Or: If at least one argument is True then the result is True.\n",
    "*Not: complement of the boolean value.'''\n",
    "a, b = True, False\n",
    "print(a and b)\n",
    "print(a or b)\n",
    "print(not a)"
   ]
  },
  {
   "cell_type": "code",
   "execution_count": 68,
   "id": "a0ed9c81-dfe4-46d3-90cc-cfcdbec0a91b",
   "metadata": {},
   "outputs": [
    {
     "name": "stdout",
     "output_type": "stream",
     "text": [
      "Enter your age\n",
      " 30\n"
     ]
    },
    {
     "name": "stdout",
     "output_type": "stream",
     "text": [
      "Pass for interview.\n"
     ]
    }
   ],
   "source": [
    "#if else statement with compound condition example\n",
    "a = int(input(\"Enter your age\\n\"))\n",
    "if a > 17 and a < 45:\n",
    "    print(\"Pass for interview.\")\n",
    "else:\n",
    "    print(\"Application Denied.\")"
   ]
  },
  {
   "cell_type": "code",
   "execution_count": 79,
   "id": "7f06ea18-7e5c-458e-a4f2-e9a231c0aa84",
   "metadata": {},
   "outputs": [
    {
     "name": "stdout",
     "output_type": "stream",
     "text": [
      "Enter your nationality\n",
      " Indian\n",
      "Enter your CGPA\n",
      " 9\n"
     ]
    },
    {
     "name": "stdout",
     "output_type": "stream",
     "text": [
      "Congratulations, you won scratch card\n"
     ]
    }
   ],
   "source": [
    "''' Create two variable and \"nationality\" and \"cgpa\" and store values is your name and\n",
    " nationality, then create scholarship conditional statement based on nationality and\n",
    " cgpa?\n",
    " Hint: Output looks like below\n",
    " Enter your nationality\n",
    " Indian\n",
    " Enter your cgpa\n",
    " 8.7\n",
    " Congratulations, you won.'''\n",
    "'''nationality = input(\"Enter you nationality\\n\")\n",
    "CGPA = int(input(\"Enter you CGPA\\n\"))\n",
    "           \n",
    "if nationality == \"Indian\" and CGPA > 6.0 and CGPA <= 10:\n",
    "           print(\"Congratulation , you won\")\n",
    "else: \n",
    "    print(\"Not eligible\")'''\n",
    "\n",
    "# to make the above code case sensitive\n",
    "\n",
    "nationality = input(\"Enter your nationality\\n\").lower()\n",
    "CGPA = float(input(\"Enter your CGPA\\n\")) #dont forgot to check the brackets.\n",
    "if nationality == \"indian\" and 6.0 < CGPA <=10: # here after using .lower() then we have enter lowercase letters in string. then it will statisfy because of The issue lies in the comparison within the if statement. When you use .lower() on the input, it converts the nationality to lowercase, but your comparison is still looking for \"Indian\" with an uppercase \"I\". This mismatch causes the if condition to evaluate to False.\n",
    "    print(\"Congratulations, you won scratch card\")\n",
    "else:\n",
    "    print(\"Not eligible\")\n",
    "                    "
   ]
  },
  {
   "cell_type": "code",
   "execution_count": null,
   "id": "5cc5a4fe-0b6b-455a-8565-4688952fe1eb",
   "metadata": {},
   "outputs": [],
   "source": [
    "#What if you have more additional condition like(Applicant should have GPA above 9 else he/she will be in waiting list)?\n",
    "#then we use Nested if statement."
   ]
  },
  {
   "cell_type": "code",
   "execution_count": 84,
   "id": "7bdf875a-3a20-48c8-a8e0-88a62a6085c1",
   "metadata": {},
   "outputs": [
    {
     "name": "stdout",
     "output_type": "stream",
     "text": [
      "Enter your age\n",
      " 19\n",
      "Enter your CGPA\n",
      " 10\n"
     ]
    },
    {
     "name": "stdout",
     "output_type": "stream",
     "text": [
      "Accepted.\n"
     ]
    }
   ],
   "source": [
    "#Nested if statement\n",
    "'''Nested if statement is an if statement inside another if statement. Here, a user can decide among multiple options based on multiple conditions.\n",
    "Syntax:\n",
    "if(condition 1):\n",
    "    if(condition 2):\n",
    "        if block statement of condition 2\n",
    "    else: \n",
    "        else block statement of condition 2\n",
    "else: \n",
    "    else block statement of condition 1\n",
    "next line of code.'''\n",
    "\n",
    "#Example \n",
    "a = int(input(\"Enter your age\\n\"))\n",
    "c = float(input(\"Enter your CGPA\\n\"))\n",
    "\n",
    "if 17 < a < 45:\n",
    "    if c > 9:\n",
    "        print(\"Accepted.\")\n",
    "    else:\n",
    "        print(\"Waiting List.\")\n",
    "else:\n",
    "    print(\"Application Denied.\")\n",
    "    \n",
    "              \n",
    "   "
   ]
  },
  {
   "cell_type": "code",
   "execution_count": 93,
   "id": "053f4d38-4fe2-4639-835f-6b5bbd6f60b8",
   "metadata": {},
   "outputs": [
    {
     "name": "stdout",
     "output_type": "stream",
     "text": [
      "Enter your username:\n",
      " Mani\n",
      "Enter your password:\n",
      " King@1234\n"
     ]
    },
    {
     "name": "stdout",
     "output_type": "stream",
     "text": [
      "Login Successful\n",
      "WELCOME TO CODING WORLD\n"
     ]
    }
   ],
   "source": [
    "\"\"\"Create two variable \"username\" and \"password\" and store values is your name and\n",
    " password, then create log in conditional statement based on username and password?\n",
    " Hint: Output looks like below\n",
    " Enter your username\n",
    " john\n",
    " Enter your password\n",
    " 12345\n",
    " Welcome to facebook.\"\"\"\n",
    "username = input(\"Enter your username:\\n\").lower()\n",
    "password = input(\"Enter your password:\\n\")\n",
    "if username == \"mani\":\n",
    "    if password == \"King@1234\":\n",
    "        print(\"Login Successful\\nWELCOME TO CODING WORLD\")\n",
    "    else: \n",
    "        print(\"Incorrect password.\")\n",
    "else:\n",
    "    print(\"Username or password incorrect.\")"
   ]
  },
  {
   "cell_type": "code",
   "execution_count": 97,
   "id": "27d5a82d-746c-45f4-9732-3d0170cc272f",
   "metadata": {},
   "outputs": [
    {
     "name": "stdout",
     "output_type": "stream",
     "text": [
      "Enter your age\n",
      " 21\n",
      "Enter you CGPA\n",
      " 7.5\n"
     ]
    },
    {
     "name": "stdout",
     "output_type": "stream",
     "text": [
      "Pass for interview.\n"
     ]
    }
   ],
   "source": [
    "# if elif else statement\n",
    "''' The conditions are evaluated in the written order. If one condition becomes True then the set of statements\n",
    "associated with that particular condition are executed and the execution comes out without checking other conditions.\n",
    "'''\n",
    "\"\"\"\n",
    "Syntax:\n",
    "if (condition): \n",
    "    if block statement \n",
    "elif:\n",
    "    elif block statement\n",
    "else:\n",
    "    else block statement \n",
    "next line of code\n",
    "\"\"\"\n",
    "#example\n",
    "a = int(input(\"Enter your age\\n\"))\n",
    "c = float(input(\"Enter you CGPA\\n\"))\n",
    "if 17<a<45 and c > 9:\n",
    "    print(\"Accepted.\")\n",
    "elif 17<a<45 and 7<c<9:\n",
    "    print(\"Pass for interview.\")\n",
    "else:\n",
    "    print(\"Application Denied.\")"
   ]
  },
  {
   "cell_type": "code",
   "execution_count": 13,
   "id": "05dc13ee-3262-4aeb-a085-185ffd2e957d",
   "metadata": {},
   "outputs": [
    {
     "name": "stdout",
     "output_type": "stream",
     "text": [
      "Enter your score:\n",
      " 99.9\n"
     ]
    },
    {
     "name": "stdout",
     "output_type": "stream",
     "text": [
      "grade is A\n"
     ]
    }
   ],
   "source": [
    "''''Create a variable \"score\" and take input from user, then classify them based on their\n",
    " score?\n",
    " Classification:\n",
    " \"A\" – 90 to 100\n",
    " \"B\" – 80 to 90\n",
    " \"C\" – 70 to 80\n",
    " \"D\" – 60 to 70\n",
    " \"F\" – below 60'''\n",
    "score = float(input(\"Enter your score:\\n\"))\n",
    "if 90<= score <= 100:\n",
    "    print(\"grade is A\")\n",
    "elif 80<= score <= 90:\n",
    "    print (\"grade is B\")\n",
    "elif 70<= score <= 80:\n",
    "    print (\"grade is c\")\n",
    "elif 60<= score <= 70:\n",
    "    print (\"grade is B\")\n",
    "else:\n",
    "    print (\"F\")\n",
    "\n",
    "            "
   ]
  },
  {
   "cell_type": "code",
   "execution_count": 31,
   "id": "72f10888-de5f-4c06-ab23-62d731bb6f59",
   "metadata": {},
   "outputs": [
    {
     "name": "stdout",
     "output_type": "stream",
     "text": [
      "Enter first number : 1\n",
      "Enter second number: 2\n",
      "Enter third number: 1\n"
     ]
    },
    {
     "name": "stdout",
     "output_type": "stream",
     "text": [
      "largest number is: 2.0\n"
     ]
    }
   ],
   "source": [
    "#different types of if else statements\n",
    "'''#type1\n",
    "a = float(input(\"Enter first number :\"))\n",
    "b = float(input(\"Enter second number:\"))\n",
    "if a>b:\n",
    "    print(a, \"is largest number\")\n",
    "else:\n",
    "    print(b, \"is largest number\")\n",
    "#type 2\n",
    "\"\"\" Syntax for if else using Tertiary Operator:\n",
    " [on_True] if (condition) else [on_False]\"\"\"\n",
    "a = float(input(\"Enter first number :\"))\n",
    "b = float(input(\"Enter second number:\"))\n",
    "max = a if a>b else b\n",
    "print (\"Largest no. = \", max)\n",
    "\n",
    "#type3(if elif else statement)\n",
    "a = float(input(\"Enter first number :\"))\n",
    "b = float(input(\"Enter second number:\"))\n",
    "if a>b:\n",
    "    print (a, \"is largest number\")\n",
    "elif a==b:\n",
    "    print(a ,\"and\", b, \"are equal\" )\n",
    "else:\n",
    "    print(b, \"is largest number\")\n",
    "           \n",
    "#type4(half nested if statements)\n",
    "a = float(input(\"Enter first number :\"))\n",
    "b = float(input(\"Enter second number:\"))\n",
    "c = float(input(\"Enter third number:\"))\n",
    "if a>b:\n",
    "    if a>c:\n",
    "        print(a, \"is largest number\")\n",
    "    else:\n",
    "        print(c, \"is largest number\")\n",
    "else:\n",
    "    print(b, \"is largest number\")\n",
    "#the above code will not check the b is > c or not it directly give output for a>b to solve this the below code applies\n",
    "a = float(input(\"Enter first number :\"))\n",
    "b = float(input(\"Enter second number:\"))\n",
    "c = float(input(\"Enter third number:\"))\n",
    "if a>b and a >c:\n",
    "    print(a, \"is largest number\")\n",
    "elif b>a and b>c:\n",
    "    print(b, \"is largest number\")\n",
    "else:\n",
    "    print(c, \"is largest number\")'''\n",
    "#What if a and b are equal numbers. For example: (1, 1, 2) or (1, 2, 2) or (2, 1, 2) (2, 2, 2)\n",
    "#type5(full  nested if statements)\n",
    "a = float(input(\"Enter first number :\"))\n",
    "b = float(input(\"Enter second number:\"))\n",
    "c = float(input(\"Enter third number:\"))\n",
    "if (a>=b):\n",
    "    if (a>=c):\n",
    "        largest = a\n",
    "    else:\n",
    "        largest = c\n",
    "else:\n",
    "    if (b>=c):\n",
    "        largest = b\n",
    "    else:\n",
    "        largest =c\n",
    "print(\"largest number is:\", largest)"
   ]
  },
  {
   "cell_type": "code",
   "execution_count": 39,
   "id": "ed3ee137-ebb6-4092-9400-0da772d85151",
   "metadata": {},
   "outputs": [
    {
     "name": "stdout",
     "output_type": "stream",
     "text": [
      " before swapping a= 1 b= 2\n",
      "after swapping a= 2 b= 1\n",
      " before swapping a= 1 b= 2\n",
      "after swapping a= 2 b= 1\n",
      " before swapping a= 1 b= 2\n",
      "after swapping a= 2.0 b= 1.0\n",
      " before swapping a= 4 b= 5\n",
      "after swapping a= 5 b= 4\n"
     ]
    }
   ],
   "source": [
    "\n",
    "#variable swapping\n",
    "\"\"\"\n",
    "using third variable\n",
    "using assignment operator\n",
    "using * and / operator\n",
    "using ^ (xor) operator\n",
    "\"\"\"\n",
    "#using third variable\n",
    "a, b =1,2\n",
    "print(\" before swapping a=\",a,\"b=\",b)\n",
    "temp= a \n",
    "a = b\n",
    "b = temp\n",
    "print(\"after swapping a=\",a,\"b=\",b)\n",
    "#using assignment operator\n",
    "a, b = 1, 2\n",
    "print(\" before swapping a=\",a,\"b=\",b)\n",
    "a, b =b,a \n",
    "print(\"after swapping a=\",a,\"b=\",b)\n",
    "#using * and / operator\n",
    "a, b = 1,2\n",
    "print(\" before swapping a=\",a,\"b=\",b)\n",
    "a = a * b\n",
    "b = a /b\n",
    "a = a / b\n",
    "print(\"after swapping a=\",a,\"b=\",b)\n",
    "#using ^ (xor) operator\n",
    "a , b = 4, 5\n",
    "print(\" before swapping a=\",a,\"b=\",b)\n",
    "a = a^b\n",
    "b= a^b\n",
    "a = a ^b\n",
    "print(\"after swapping a=\",a,\"b=\",b)"
   ]
  },
  {
   "cell_type": "code",
   "execution_count": 45,
   "id": "d664b45e-90b5-4d1f-b099-c6700b35fd6f",
   "metadata": {},
   "outputs": [
    {
     "name": "stdout",
     "output_type": "stream",
     "text": [
      "current bus stop number:\n",
      " 16\n"
     ]
    },
    {
     "name": "stdout",
     "output_type": "stream",
     "text": [
      "previous busstop is: 8\n",
      "current bus stop is : 16\n",
      "next bust stop is : 32\n"
     ]
    }
   ],
   "source": [
    "'''Case Study : Bus Stop Problem\n",
    " There are bus stops in a road each bus stop have its own number. Bus station (initial) number is 0. Each bus\n",
    " stop number is double of previous bus stop number. Current bus stop number is 16,\n",
    " What is the bus stop number before the current bus stop?\n",
    " What is the bus stop number next to the current bus stop?'''\n",
    "c = int(input(\"current bus stop number:\\n\"))\n",
    "p = c/2\n",
    "p = int(p)\n",
    "n = c * 2\n",
    "print (\"previous busstop is:\",p)\n",
    "print(\"current bus stop is :\",c)\n",
    "print(\"next bust stop is :\", n)\n",
    "       "
   ]
  },
  {
   "cell_type": "code",
   "execution_count": null,
   "id": "0df08746-ab7d-44b6-bd3a-db903477ab46",
   "metadata": {},
   "outputs": [],
   "source": [
    "#Bitwise operators\n",
    "#bitwise operators are operators used perform bitwise calculations on integers\n",
    "#Note: bitwise operators only work on integers\n",
    "\"\"\"there are six bitwise operators they are\n",
    "Bitwise AND, OR , NOT, XOR, right shift, left shift(&,|,~,^,>>,<<)\"\"\"\n"
   ]
  },
  {
   "cell_type": "code",
   "execution_count": 48,
   "id": "9fb1f17e-153f-4a7a-ba70-8439a30350ad",
   "metadata": {},
   "outputs": [
    {
     "name": "stdout",
     "output_type": "stream",
     "text": [
      "True\n",
      "True\n",
      "False\n"
     ]
    }
   ],
   "source": [
    "#Membership operators\n",
    "\"\"\"These operators are used to check whether an element is present in a sequence of elements or not. here the sequence means list , tuple , set and dictionaries.\n",
    "There are two membership operators:\n",
    "1. In operator: the in-operator returns true if the element is found in the collection of sequences. Returns false if not found.\n",
    "2. Not in operator: The not in operator returns true if the element is not found in the collection of sequence . returns false if found.\n",
    "\"\"\"\n",
    "\"\"\"text = \"wellcome\"\n",
    "print(\"well\" in text)\n",
    "print(\"come\" not in text)\n",
    "\"\"\"\n",
    "class_B= [\"Mani\", \"Srihari\",\"Hafeez\",\"Prasanth\"]\n",
    "print(\"Mani\" in class_B)\n",
    "print(\"King\" not in class_B)\n",
    "print(\"Mani\" not in class_B)\n"
   ]
  },
  {
   "cell_type": "code",
   "execution_count": 49,
   "id": "dcd16b02-649b-4f58-9d0f-2bcb7ad4b974",
   "metadata": {},
   "outputs": [
    {
     "data": {
      "text/plain": [
       "20"
      ]
     },
     "execution_count": 49,
     "metadata": {},
     "output_type": "execute_result"
    }
   ],
   "source": [
    "#eval() function\n",
    "\"\"\"\n",
    "this is an inbuilt function available in python , which takes the string as an input, the strings which we pass to it should, generally, be expressions.\n",
    "The eval() function takes the expression in the form of string and evaluates it and returns the result.\n",
    "\"\"\"\n",
    "eval('10 + 10')"
   ]
  },
  {
   "cell_type": "code",
   "execution_count": null,
   "id": "0104498b-b78e-4bc4-a277-1ef91227b2df",
   "metadata": {},
   "outputs": [
    {
     "name": "stdout",
     "output_type": "stream",
     "text": [
      "enter a number: 4\n",
      "enter another number: 4\n"
     ]
    },
    {
     "name": "stdout",
     "output_type": "stream",
     "text": [
      " the average is : 4.0\n"
     ]
    }
   ],
   "source": [
    "'''Create two integer variables \"a\" and \"b\" take input from a user, then calculate their\n",
    " average by using eval() function?'''\n",
    "a = int(input(\"enter a number:\" ))\n",
    "b = int(input(\"enter another number:\"))\n",
    "average = eval('(a+b)/2')\n",
    "print(\" the average is :\", average)\n"
   ]
  },
  {
   "cell_type": "code",
   "execution_count": 78,
   "id": "11b0232b-2b2f-49fd-8dd8-cbc40831773d",
   "metadata": {},
   "outputs": [
    {
     "name": "stdout",
     "output_type": "stream",
     "text": [
      "0.0\n",
      "1.0\n",
      "-0.4480736161291701\n",
      "100000.0\n",
      "25.0\n",
      "7\n",
      "6\n"
     ]
    }
   ],
   "source": [
    "#eval(input(\"enter expression:\"))\n",
    "#eval() function is not applicable to compound operators\n",
    "#eval() function using unary minus operator\n",
    "\"\"\"a = 5\n",
    "eval('-a')\"\"\"\n",
    "#using relational operator\n",
    "eval('1>2')\n",
    "#using logical operator\n",
    "eval('0 and 1')\n",
    "#using bitwise operator\n",
    "eval('2<<3')\n",
    "#using membership operator\n",
    "n = 'mani'\n",
    "eval('\"ma\" in n')\n",
    "#using identity operator\n",
    "from math import *\n",
    "print(eval('log(1)'))\n",
    "print(eval('log(e)'))\n",
    "print(eval('cos(90)'))\n",
    "print(eval('pow(10,5)'))\n",
    "print(eval('sqrt(625)'))\n",
    "print(eval('ceil(6.5)'))\n",
    "print(eval('floor(6.5)'))\n"
   ]
  },
  {
   "cell_type": "code",
   "execution_count": 82,
   "id": "f841db3e-dce8-4558-a1d7-66fa9d6d3fc2",
   "metadata": {},
   "outputs": [
    {
     "data": {
      "text/plain": [
       "3"
      ]
     },
     "execution_count": 82,
     "metadata": {},
     "output_type": "execute_result"
    }
   ],
   "source": [
    "#Function\n",
    "\"\"\"\n",
    "A function is a group of statements or a block of code to perform a certain task.the advantages of usign functions are:\n",
    "* maintaing the is an easy way.\n",
    "* organize and manage our code.\n",
    "*code re-uasability.\n",
    "#types of functions\n",
    "there are many categories based on which we can categorize the functions.\n",
    "1. pre-defined or built-in funtions.\n",
    "2. User-defined functions\n",
    "#predifined or built in functions\n",
    "the functions which come installed along with python software are called predefined or built in functions. we have covered some inbuilt functions in example of earlier\n",
    "chapters. some of them are id(), type(), input(), print() etc.\n",
    "#user-defined function\n",
    "the functions which are defined by the developer as per the requirement are called as user defined functions.\n",
    "in this chapter we shall concentrate on these kind of functions which are used defined.\n",
    "#How to create and call a function.\n",
    "from creating a function to using it , these are the two things that are done.\n",
    "-defining function\n",
    "-calling function.\n",
    "#1.defining function\n",
    "syntax to define fucntion\n",
    "def fucntion_name(parameters):\n",
    "        // body of function\n",
    "        return value\"\"\"\n",
    "#def keyword: Every function in python should start with the keyword 'def'. In other words, python can understand the code as part of a function if it contains the 'def' keyword only.\n",
    "#def means define a function.\n",
    "\"\"\"\n",
    "- Name of the funtion- Every funtion should be given a name, which can later be used to call it.\n",
    "- paranthesis- after the name'()' parenthesis are required.\n",
    "- parameters- the parameters, if any, should be included within the parenthesis.\n",
    "- colon symbol':' should be mandatorily placed immediately after closing the parantheses.\n",
    "- Body of function- all the code that does some operation should go in the body of the function. the body of the function should have indentation of one level with respect to the line containning the 'def' keyword.\n",
    "-return value/statement/- Return statement should be in the body of the function. it's not mandatory to have a return statement.\n",
    "\"\"\"\n",
    "#defining a function\n",
    "def add():\n",
    "    a, b = 1, 2\n",
    "    c = a + b\n",
    "    return c\n",
    "#note: after defining a function we can call the function using its name. while calling a function, we need to pass the parameters if it has any.\n",
    "#2. calling a funtion\n",
    "\"\"\" in the above example we defined a function with te name 'add' to add two numbers. but when we execute the above code, it will not display any output, because the function is not called. hence, function callig is also important along with function definition.\n",
    "\"\"\"\n",
    "#note: when a function is called once then it will execute once, if called twice then it will be executed twice and so on.\n",
    "\"\"\" syntax to call a function\n",
    "function name(parameter)\"\"\"\n",
    "add()\n",
    "#note: while calling the funtion we have to use the same name that we have used."
   ]
  },
  {
   "cell_type": "code",
   "execution_count": 86,
   "id": "69785f2c-14ba-41ee-956c-5e1601c63bfe",
   "metadata": {},
   "outputs": [
    {
     "data": {
      "text/plain": [
       "1.5"
      ]
     },
     "execution_count": 86,
     "metadata": {},
     "output_type": "execute_result"
    }
   ],
   "source": [
    " #Create a function to calculate average of two numbers?\n",
    "def average():\n",
    "    a, b = 1, 2\n",
    "    c = (a+b)/2\n",
    "    return c\n",
    "\n",
    "average()"
   ]
  },
  {
   "cell_type": "code",
   "execution_count": null,
   "id": "a7945028-f963-4f7e-a96f-64733a7c2b2d",
   "metadata": {},
   "outputs": [],
   "source": [
    "#What is return value\n",
    "\"\"\" as mentioned above, the return statement is included in the function body, and it returns some reult after doing the operations.\n",
    "some points about return statement\n",
    "-return is a keyword in python\n",
    "- by using return , we can return the result\n",
    "-it is not mandatory for a funtion to have a return statement.\n",
    "- if there is not rerturn statement in the funtion body then the funtion , by default , returns none\"\"\"\n"
   ]
  },
  {
   "cell_type": "code",
   "execution_count": 89,
   "id": "23b6ef78-ca64-4cc4-bdf2-a5ec9d657fee",
   "metadata": {},
   "outputs": [
    {
     "name": "stdout",
     "output_type": "stream",
     "text": [
      "enter a number 2\n",
      "enter another number 3\n"
     ]
    },
    {
     "data": {
      "text/plain": [
       "8.0"
      ]
     },
     "execution_count": 89,
     "metadata": {},
     "output_type": "execute_result"
    }
   ],
   "source": [
    " #Create a function to calculate \"a power of b\" by using eval() function?\n",
    "def eval():\n",
    "    a = int(input(\"enter a number\"))\n",
    "    b = int(input(\"enter another number\"))\n",
    "    cal = pow(a, b)\n",
    "    return cal\n",
    "eval()"
   ]
  },
  {
   "cell_type": "code",
   "execution_count": 90,
   "id": "96836683-968d-45a1-8a9d-2a10092a904d",
   "metadata": {},
   "outputs": [
    {
     "data": {
      "text/plain": [
       "(5, 1)"
      ]
     },
     "execution_count": 90,
     "metadata": {},
     "output_type": "execute_result"
    }
   ],
   "source": [
    "#how to return multiple values\n",
    "\"\"\" in python, a funtion can return multiple values.\"\"\"\n",
    "#defining a funtion\n",
    "def cal():\n",
    "    a, b = 3,2\n",
    "    c = a+b\n",
    "    d = a-b\n",
    "    return c,d\n",
    "#calling a function\n",
    "cal()\n"
   ]
  },
  {
   "cell_type": "code",
   "execution_count": 91,
   "id": "a0cebda3-2cfa-42f0-a34c-0226ac72c7ed",
   "metadata": {},
   "outputs": [
    {
     "data": {
      "text/plain": [
       "(9, 4.5)"
      ]
     },
     "execution_count": 91,
     "metadata": {},
     "output_type": "execute_result"
    }
   ],
   "source": [
    "#Create a function to calculate (return) sum and average of two numbers?\n",
    "def cal():\n",
    "    a, b = 4 ,5 \n",
    "    c = a +b\n",
    "    d = c/2\n",
    "    return c, d\n",
    "cal()"
   ]
  },
  {
   "cell_type": "code",
   "execution_count": 1,
   "id": "e5889129-b0f5-4f01-83e3-278d5e027512",
   "metadata": {},
   "outputs": [
    {
     "name": "stdout",
     "output_type": "stream",
     "text": [
      "Welcome to coding.\n",
      "10\n"
     ]
    }
   ],
   "source": [
    "\"\"\"\n",
    "Based on the parameter, functions can be categorized into two types. they are:\n",
    "- function without parameters(nono-parametric function)\n",
    "- function with parameter(parametric function)\n",
    "what is non-parametric function?\n",
    "a function which has no parameters in the function definition is called as non-parametric function or function without parameters.\n",
    "syntax of non-parametric funtion:\n",
    "def function_name():\n",
    "       //body of funtion\n",
    "       return value\n",
    "\"\"\"\n",
    "#defining a function\n",
    "def display():\n",
    "    print(\"Welcome to coding.\")\n",
    "#calling function\n",
    "display()\n",
    "\"\"\"\n",
    "Function with argument\n",
    "what is parametric function?\n",
    "a fucntion which has parameter(s) in the function definition as an input is called as parametric funtion or funtion with argument.\n",
    "what is argument?\n",
    "an argument is a variable(which contains data) or a parameter which is sent to the funtion as input.\n",
    "before getting into argument types, let's get familiar with words formal and actual arguments.\n",
    "1. Formal arguments \n",
    "when a function is defined it (may) has (have) some parameters within the parentheses. these parameters, which receive the values sent from the function call, are called formal arguments.\n",
    "2. actual arguments\n",
    "the parameters which we use in the function call or the parameters which we use to send the values/data during the function calling are called actual arguments.\n",
    "in the example down below:\n",
    "- a and b are formal arguments \n",
    "- 7 and 3 actual arguments \"\"\"\n",
    "#defining a function\n",
    "def add(a,b):\n",
    "    c = a+b\n",
    "    print(c)\n",
    "#calling a function\n",
    "add(7,3)\n",
    "     "
   ]
  },
  {
   "cell_type": "code",
   "execution_count": 8,
   "id": "f00267ed-8490-4f78-8944-4dcadb00df85",
   "metadata": {},
   "outputs": [
    {
     "name": "stdout",
     "output_type": "stream",
     "text": [
      "given number is even\n"
     ]
    }
   ],
   "source": [
    " #Create a parametric function to check a number is even or odd?\n",
    "def even_odd(a):\n",
    "    if a%2 == 0:\n",
    "        print(\"given number is even\")\n",
    "    else:\n",
    "        print(\"given number is odd\")\n",
    "num = int(input(\"Enter a number:\"))\n",
    "even_odd(num)\n",
    "        "
   ]
  },
  {
   "cell_type": "code",
   "execution_count": null,
   "id": "e16c14a1-eb6d-47d7-9817-b12b45c81e39",
   "metadata": {},
   "outputs": [
    {
     "name": "stdout",
     "output_type": "stream",
     "text": [
      "3\n",
      "Phone brand is: Oppo\n",
      "Phone price is: 22000\n",
      "3\n",
      "Student id : 21WU0102053\n",
      "Student name: Mani\n",
      "3\n",
      "3\n",
      "5\n",
      "Name: Mani\n",
      "No. of goals: 5\n",
      "Mani ()\n",
      "Mani (21,)\n",
      "Mani (2025, 2053)\n",
      "Player Name: Mani\n",
      "Other details: (69, 9, 4)\n",
      "{'name': 'John', 'age': 20, 'gpa': 3.7}\n"
     ]
    }
   ],
   "source": [
    "#Type of Arguments\n",
    "'''In python, depending on the way or format we send the arguments to the function, the arguments can be classified into five types,\n",
    "1. Positional arguments\n",
    "2. keyword arguments\n",
    "3. Default arguments\n",
    "4. Variable length arguments\n",
    "5. Keyword variable length arguments'''\n",
    "#1. positional arguments(no. of functional arguments = given arguments)\n",
    "#syntax fucntion(a,b) and fucntion(value, value)\n",
    "def sub(a,b):\n",
    "    c = a-b\n",
    "    print(c)\n",
    "sub(5,2)\n",
    "#example: Create a function to print phone brand and phone price using positional keyword arguments?\n",
    "def phone_specs(brand,price):\n",
    "    print(\"Phone brand is:\",brand)\n",
    "    print(\"Phone price is:\",price)\n",
    "phone_specs(\"Oppo\",22000)\n",
    "#2. Keywod arguments(sending values using keys)\n",
    "#function(a,b) and function(varible = value, variable = value)\n",
    "def sub(a,b):\n",
    "    c = a-b\n",
    "    print(c)\n",
    "sub(b=2,a=5)\n",
    "#example: create a function to print student id and student name using keyword arguments?\n",
    "def stu_det(id,name):\n",
    "    print(\"Student id :\", id)\n",
    "    print(\"Student name:\", name)\n",
    "    \n",
    "stu_det(id = \"21WU0102053\", name= \"Mani\")\n",
    "#Note: if we are using both positional and keyword arguments at a time then we have to use first positional arguments and the keyword arguments.\n",
    "def numbers(a,b):\n",
    "    c = a-b\n",
    "    print(c)\n",
    "numbers(5, b=2)\n",
    "# 3.Default parameters(assigning some value to the parameter while defining a fuction)\n",
    "#example:\n",
    "def sub(a,b=0):\n",
    "    c = a-b\n",
    "    print(c)\n",
    "sub(a=5,b=2)\n",
    "sub(a=5)\n",
    "#create a function to print football player name, no. of goals he scored using default arguments?\n",
    "def player_det(name,Number_of_goals=0):\n",
    "    print(\"Name:\",name)\n",
    "    print(\"No. of goals:\", Number_of_goals)\n",
    "player_det(\"Mani\",5)\n",
    "# 4. Variable length arguments(we can add any number values by just adding * in front of the parameter in the fucntion)\n",
    "\"\"\"syntax\n",
    "def function_name(x, *y)\n",
    "      //body\n",
    "      return value\n",
    "    \"\"\"\n",
    "def detail(name, *ids):\n",
    "    print(name,ids)\n",
    "detail(\"Mani\")\n",
    "detail(\"Mani\",21)\n",
    "detail(\"Mani\",2025, 2053)\n",
    "#example: create a function to print player name and other details of him using variable length arguments?\n",
    "def player_dets(name, *other):\n",
    "    print(\"Player Name:\", name)\n",
    "    print(\"Other details:\",other)\n",
    "player_dets(\"Mani\",69,9,4)\n",
    "#Keyword variable length argument(can add any number of value pairs)\n",
    "#**x represents as keyword variable argument. Internally it represents like a dictionary. A dictionary stores the data in the form of key value pairs.\n",
    "\"\"\"syntax\n",
    "def function_name(**x)\n",
    "     //body\n",
    "     return value\n",
    "    \"\"\"\n",
    "def detail(**others):\n",
    "    print(others)\n",
    "detail(name='John', age= 20, gpa=3.7)\n",
    "\n"
   ]
  },
  {
   "cell_type": "code",
   "execution_count": 37,
   "id": "55ae5270",
   "metadata": {},
   "outputs": [
    {
     "name": "stdout",
     "output_type": "stream",
     "text": [
      "Sum of two numbers is: 3\n",
      "average of two numbers is: 3.5\n",
      "Average= 4.5\n",
      "tan(45)= 1.0\n",
      "Average= 5.0\n",
      "Average = 5.0\n"
     ]
    }
   ],
   "source": [
    "#Function as parameter\n",
    "#Function as variable\n",
    "\"\"\"\n",
    "def function_name():\n",
    "    //body of function\n",
    "    return value\n",
    "variable_name = fucntion_name()\n",
    "\"\"\"\n",
    "#example:\n",
    "def add(a,b):\n",
    "    return a+b\n",
    "x = add(1,2)\n",
    "print(\"Sum of two numbers is:\", x)\n",
    "#example: create a function to calculate average of two numbers and assign return value to a variable?\n",
    "def avg(a,b):\n",
    "    return (a+b)/2\n",
    "x=avg(2,5)\n",
    "print(\"average of two numbers is:\",x)\n",
    "\n",
    "\n",
    "#Function calling another function\n",
    "\"\"\"def function_one():\n",
    "    //body\n",
    "    return value\n",
    "   def fucntion_two():\n",
    "       //body\n",
    "       fucntion_one() #optional\n",
    "       return value\n",
    "    function_two()    \n",
    "\"\"\"\n",
    "def add(a,b):\n",
    "    return(a+b)\n",
    "def avg(a,b):\n",
    "    sum= add(a,b)\n",
    "    average = sum/2\n",
    "    print(\"Average=\",average)\n",
    "avg(4,5)\n",
    "#Create a function to calculate tan(45) using two other functions sine and cosine return values by using eval() function?\n",
    "import math\n",
    "def sine(angle):\n",
    "    return math.sin(math.radians(angle))\n",
    "def cosine(angle):\n",
    "    return math.cos(math.radians(angle))\n",
    "def tangent(angle):\n",
    "    sin_val =sine(angle)\n",
    "    cos_val = cosine(angle)\n",
    "    return eval(\"sin_val/cos_val\")\n",
    "print(\"tan(45)=\",tangent(45))\n",
    "\n",
    "#Nested function\n",
    "\"\"\"\n",
    "syntax:\n",
    "def function_one():\n",
    "  //body\n",
    "  def fucntion_two():\n",
    "     //body\n",
    "     return function_two\n",
    "  function_two()\n",
    "  return of fucntion one\n",
    "function_one()\n",
    "    \"\"\"\n",
    "#example\n",
    "def average(a,b):\n",
    "    def add():\n",
    "        sum= a+b\n",
    "        return sum\n",
    "    sum_val=add()\n",
    "    avg = sum_val/2\n",
    "    print(\"Average=\",avg)\n",
    "average(7,3)\n",
    "\n",
    "#function as parameter\n",
    "#syntax: function_two(function_one())\n",
    " \n",
    "def add(a, b):\n",
    "     return a + b\n",
    "def average(sum):\n",
    "     avg = sum / 2\n",
    "     print(\"Average =\",avg)\n",
    " # calling a function 2\n",
    "average(add(7, 3))"
   ]
  },
  {
   "cell_type": "code",
   "execution_count": 5,
   "id": "396aa7de",
   "metadata": {},
   "outputs": [
    {
     "name": "stdout",
     "output_type": "stream",
     "text": [
      "factorial of 4 is: 24\n",
      "total= 5050\n",
      "sum of 1 to 100 numbers is: 5050\n"
     ]
    }
   ],
   "source": [
    "#Recursive function\n",
    "#A function is called recursive when it is called by itself\n",
    "# Recursive function which calculates the factorial of a number.It can ve written as a recursive functions\n",
    "#factorial(3) = 3 x factorial(2)\n",
    "#3! =3 x 2 x 1\n",
    "def factorial(n):\n",
    "    if n ==0:\n",
    "        result = 1\n",
    "    else:\n",
    "        result = n * factorial(n-1)\n",
    "    return result\n",
    "x = factorial(4)\n",
    "print(\"factorial of 4 is:\",x)\n",
    "\n",
    " #Create a function to calculate sum of all numbers from 1 to 100?\n",
    "def cal():\n",
    "    total = 0\n",
    "    for num in range(0,101):\n",
    "        total += num\n",
    "    return total\n",
    "print(\"total=\",cal())\n",
    "\n",
    "def sum_of_100(n):\n",
    "    if n== 1:\n",
    "        return 1\n",
    "    return n + sum_of_100(n-1)\n",
    "print(\"sum of 1 to 100 numbers is:\", sum_of_100(100))\n",
    "\n"
   ]
  },
  {
   "cell_type": "code",
   "execution_count": null,
   "id": "026ea53b",
   "metadata": {},
   "outputs": [
    {
     "name": "stdout",
     "output_type": "stream",
     "text": [
      "5\n",
      "7\n",
      "3\n",
      "11\n",
      "3\n",
      "11\n",
      "7\n"
     ]
    }
   ],
   "source": [
    "#Types of variables\n",
    "#there are two variables based in to two types\n",
    "#Local variables\n",
    "#Global Variables\n",
    "\"\"\"1. Local variables\n",
    "The variables which are declared inside of the function are called as local variables.Their scope is limited to the function i.e we can access local variables within the function only.\n",
    "\"\"\"\n",
    "#example \n",
    "def add():\n",
    "    a, b = 2,3\n",
    "    print(a+b)\n",
    "add()\n",
    "\"\"\"2.The variables which are declared outside of the function are called global variables.Global variables can be accessed in all functions.\n",
    "\"\"\"\n",
    "#example\n",
    "a,b= 5,2\n",
    "def add():\n",
    "    print(a+b)\n",
    "def sub():\n",
    "    print(a-b)\n",
    "add()\n",
    "sub()\n",
    "# same global and local variables name\n",
    "a, b = 5, 2\n",
    " # defining a function\n",
    "def add():\n",
    "    a = 9\n",
    "    print(a + b)\n",
    " # defining a function\n",
    "def sub():\n",
    "    print(a - b)\n",
    " # calling a function\n",
    "add()\n",
    "sub()\n",
    "\"\"\"If we want our function to refer to global variable rather than the local variable, we can use global keyword\n",
    " before the variable in the function as shown in the example below.\n",
    " ( same global and local variables name )\"\"\"\n",
    "a, b = 5, 2\n",
    " # defining a function\n",
    "def add():\n",
    "    global a\n",
    "    a = 9\n",
    "    print(a + b)\n",
    " # defining a function\n",
    "def sub():\n",
    "    print(a - b)\n",
    " # calling a functions\n",
    "add()\n",
    "sub()\n",
    "\"\"\"The keyword global can be used for the following two purposes:\n",
    "1.To declare global variable inside function.\n",
    "2.TO make global variables available to the function.\n",
    "\n",
    "globals() built-in function\n",
    " The problem of local variables not available, due to use of global keyword can be overcome by using Python\n",
    " built-in function called globals().\n",
    " globals() is a built in function which returns a table of current global variables in the form of a dictionary.\n",
    " Using this function, we can refer to the global variable as:\n",
    " Syntax:\n",
    " global()[\"variable_name\"]\n",
    " Ex 7.28 ( globals built-in function )\"\"\"\n",
    "a, b = 5, 2\n",
    " # defining a function\n",
    "def add():\n",
    "    a = 9\n",
    "    print(a + b)\n",
    "    print(globals()['a'] + b)\n",
    " # calling a function\n",
    "add()"
   ]
  },
  {
   "cell_type": "code",
   "execution_count": 22,
   "id": "fe2e7c3f",
   "metadata": {},
   "outputs": [
    {
     "name": "stdout",
     "output_type": "stream",
     "text": [
      "16\n",
      "6\n",
      "4.0\n",
      "[3, 4, 5]\n",
      "Given number is: Even\n",
      "even numbers: [2, 4, 6, 8, 10, 12, 14, 16, 18, 20]\n",
      "odd_numbers: [1, 3, 5, 7, 9, 11, 13, 15, 17, 19]\n",
      "[3, 4, 5, 6, 7]\n",
      "price after applying discount [375.0, 450.0, 525.0, 600.0, 112.5]\n",
      "15\n",
      "48.5\n"
     ]
    }
   ],
   "source": [
    "#Lambda(Anonymous) Function\n",
    "\"\"\"The name of the function is mandatory item in the function definition as discussed earlier, but in python we have a keyword \n",
    "called 'lambda'with which we cam define a simple function in a single line without actually naming it.\n",
    "Syntax:\n",
    "labda arguments_list: expression\n",
    "\"\"\"\n",
    "#example1\n",
    "s = lambda a: a*a\n",
    "x = s(4)\n",
    "print(x)\n",
    "#example2\n",
    "s = lambda a, b:a*b\n",
    "x=s(2,3)\n",
    "print(x)\n",
    "\"\"\"\n",
    " Points to Remember while working with Python Lambda Functions:\n",
    " A lambda function can take any number of arguments but should have only one expression.\n",
    " It takes the parameters and does some operation on them and returns the result, just the same as normal\n",
    " functions.\n",
    " The biggest advantage of lambda functions is that a very concise code can be written which improves\n",
    " the readability of the code.\n",
    " This can be used for only simple functions but not for complex functions.\n",
    " The lambda function, mostly, can be used in combination with other functions such as map(), reduce(),\n",
    " filter() etc. which we are going to discuss now.\n",
    "\"\"\"\n",
    "#example: create a lambda function to calculate average of two numbers?\n",
    "s= lambda a,b:(a+b)/2\n",
    "x = s(4,4)\n",
    "print(x)\n",
    "\n",
    "\"\"\"\n",
    " 1. filter() Function\n",
    " This function is used to filter values from a sequence of values.\n",
    " Syntax for filter() function:\n",
    " filter(function_name, sequence)\n",
    " The filter function will filter the elements in the sequence based on the condition in the function. Let’s\n",
    " understand it through the example\n",
    "\"\"\"\n",
    "#example:\n",
    "a = [1,2,3,4,5]\n",
    "g = filter(lambda x: x>2, a)\n",
    "x = list(g)\n",
    "print(x)\n",
    "#example:  Create a filter function to check a number is even or odd?\n",
    "#filter function is used if we have the list of numbers if we have single number then no need of filter function.\n",
    "check_even_odd = lambda x: \"Even\" if x % 2==0 else \"odd\"\n",
    "num = int(input(\"Enter a number\"))\n",
    "print(\"Given number is:\", check_even_odd(num))\n",
    "\n",
    "#for list\n",
    "numbers=list(range(1,21))\n",
    "even_numbers= list(filter(lambda x: x%2==0,numbers))\n",
    "odd_numbers=list(filter(lambda x: x%2 != 0,numbers))\n",
    "print(\"even numbers:\", even_numbers)\n",
    "print(\"odd_numbers:\",odd_numbers)\n",
    "\n",
    "\"\"\"\n",
    " 2. map() Function\n",
    " This function is used to map a particular function onto the sequence of elements. After applying, this returns a\n",
    " new set of values.\n",
    " Syntax of map() function:\n",
    " map(function_name, sequence)\n",
    "\"\"\"\n",
    "#example:\n",
    "a =[1,2,3,4,5]\n",
    "g =map(lambda x: x+2,a)\n",
    "x =list(g)\n",
    "print(x)\n",
    "\"\"\"example: Create a list variable and store price of foods then print all foods price after 25%\n",
    " discount using map() function?\"\"\"\n",
    "a =[500, 600, 700, 800, 150]\n",
    "g = map(lambda x: x - (x*25)/100,a)\n",
    "x =list(g)\n",
    "print(\"price after applying discount\",x)\n",
    "\n",
    "\"\"\"\n",
    "3. reduce() Function\n",
    " This function reduces the sequence of elements into a single element by applying a specific condition or logic.\n",
    " To use the reduce function we need to import the functools module.\n",
    " Syntax for reduce() function:\n",
    " from functools import reduce\n",
    " reduce(function_name, sequence)\n",
    "\"\"\"\n",
    "from functools import reduce\n",
    "a =[1,2,3,4,5]\n",
    "g =reduce(lambda x, y : x+y,a)\n",
    "print(g)\n",
    "\n",
    "\"\"\"\n",
    "Create a list variable and store your mid semester exam results of each subject then find its average using reduce() function?\n",
    "\"\"\"\n",
    "a =[50,49,45,50]\n",
    "g=reduce(lambda x,y: x+y,a)\n",
    "average = g/len(a)\n",
    "print(average)"
   ]
  },
  {
   "cell_type": "code",
   "execution_count": 2,
   "id": "ce5142bc",
   "metadata": {},
   "outputs": [
    {
     "name": "stdout",
     "output_type": "stream",
     "text": [
      "50\n",
      "5\n",
      "5.0\n",
      "Invalid\n",
      "None\n",
      "5.0\n"
     ]
    }
   ],
   "source": [
    "#Decorators and Generators\n",
    "\"\"\" A decorator is a special function which adds some extra functionality to an existing function.\n",
    " A decorator is a function that accepts a function as a parameter and returns a function.\n",
    " Decorators are useful to perform some additional processing required by a function.\n",
    " Steps to create decorator:\n",
    " Step 1: Decorator takes a function as an argument.\n",
    " Step 2: Decorator body should have inner function.\n",
    " Step 3: Decorator should return a function.\n",
    " Step 4: The extra functionality which you want to add to a function can be added in the body of the\n",
    " inner_function\n",
    " \n",
    "  Syntax:\n",
    " def inner_function(x, y):\n",
    " if x < 0:\n",
    " x = 0\n",
    " if y < 0:\n",
    " y = 0\n",
    " return func(x, y)\n",
    " return inner_function\n",
    " We have created our decorator and now let’s use it with our add function from\n",
    " add = decor(add)\n",
    " With the above statement, we are passing the add function as parameter to the decorator function, which is\n",
    " returning inner_function.\n",
    " After this, whenever we call add, the execution goes to inner_function in the decorator.\n",
    " add(-10, 20)\n",
    " In inner_function, we are doing the extra logic for checking whether the arguments are positive or not. If not\n",
    " positive we are assigning them with zero. And we are passing the processed values to the original add\n",
    " function which was sent to the decorator\n",
    " \"\"\"\n",
    "def decor(func):\n",
    "    def inner_function(x,y):\n",
    "        if x<0:\n",
    "            x=0\n",
    "        if y<0:\n",
    "            y=0\n",
    "        return func(x,y)\n",
    "    return inner_function\n",
    "def add(a,b):\n",
    "    res = a+b\n",
    "    return res\n",
    "add = decor(add)\n",
    "print(add(20,30))\n",
    "print(add(-10,5))\n",
    "\n",
    "#Create a decorator to divide two numbers but if a number is divided by zero, print “Invalid”?\n",
    "def safe_divide(func):\n",
    "    def inner_function(a, b):\n",
    "        if b == 0:  # Check if denominator is zero\n",
    "            print(\"Invalid\")\n",
    "            return None  # Return None to indicate an invalid operation\n",
    "        return func(a, b)  # Call the original function if b is not zero\n",
    "    return inner_function  # Return the modified function\n",
    "\n",
    "@safe_divide  # Applying the decorator\n",
    "def divide(x, y):\n",
    "    return x / y  # Perform division\n",
    "\n",
    "# Test cases\n",
    "print(divide(10, 2))   # Output: 5.0\n",
    "print(divide(5, 0))    # Output: Invalid\n",
    "print(divide(15, 3))   # Output: 5.0\n"
   ]
  },
  {
   "cell_type": "code",
   "execution_count": 2,
   "id": "a10c5ff9",
   "metadata": {},
   "outputs": [
    {
     "name": "stdout",
     "output_type": "stream",
     "text": [
      "10\n",
      "10\n",
      "5.0\n",
      "5.0\n",
      "5.0\n",
      "1.0\n"
     ]
    }
   ],
   "source": [
    "'''@symbol in python\n",
    " In the above example, in order to use the decorator, we have used the ‘add = decor(add)’ line. Rather than\n",
    " using this we can just use the ‘@decor’ symbol on top of the function for which we want to add this extra\n",
    " functionality. The decorator once created can also be used for other functions as well.\n",
    "'''\n",
    "def decor(func):\n",
    "    # defining a function\n",
    "    def inner_function(x, y):\n",
    "        if x < 0:\n",
    "            x = 0\n",
    "        if y < 0:\n",
    "            y = 0\n",
    "        return func(x, y)\n",
    "    return inner_function\n",
    "@decor\n",
    " # defining a function\n",
    "def sub(a, b):\n",
    "    res = a - b\n",
    "    return res\n",
    " # calling a function\n",
    "print(sub(30, 20))\n",
    "print(sub(10, -5))\n",
    "''' Create a decorator to divide two numbers but the numerator is always greater than\n",
    " denominator?'''\n",
    "def ensure_numerator_greater(func):\n",
    "    def inner_function(a, b):\n",
    "        if a < b:  # Swap values if numerator is smaller\n",
    "            a, b = b, a\n",
    "        return func(a, b)  # Call the original function with updated values\n",
    "    return inner_function  # Return the modified function\n",
    "\n",
    "@ensure_numerator_greater  # Applying the decorator\n",
    "def divide(x, y):\n",
    "    return x / y  # Perform division\n",
    "\n",
    "# Test cases\n",
    "print(divide(10, 2))   # Output: 5.0\n",
    "print(divide(2, 10))   # Output: 5.0 (Swaps to divide 10 by 2)\n",
    "print(divide(15, 3))   # Output: 5.0\n",
    "print(divide(7, 7))    # Output: 1.0 (No swap needed)\n"
   ]
  },
  {
   "cell_type": "code",
   "execution_count": 5,
   "id": "a030d6d0",
   "metadata": {},
   "outputs": [
    {
     "name": "stdout",
     "output_type": "stream",
     "text": [
      "<class 'generator'>\n",
      "1\n",
      "2\n",
      "3\n",
      "Mani\n",
      "Chenna\n",
      "Kesava\n"
     ]
    }
   ],
   "source": [
    "'''What are Generators?\n",
    " Generators are just like functions which give us a sequence of values one as an iterable. Generators contain\n",
    " yield statements just as functions contain return statements.\n",
    " next() function in Python:\n",
    " If we want to retrieve elements from a generator, we can use the next function on the iterator returned by the\n",
    " generator. This is the other way of getting the elements from the generator.\n",
    " Page 92\n",
    "Advantages of using generators\n",
    " Memory Efficiency: Generators save memory by generating values on-the-fly instead of storing them\n",
    " all at once.\n",
    " Lazy Evaluation: Values are computed only as needed, improving efficiency for expensive operations.\n",
    " Iteration Support: Generators are iterable, making it easy to loop over generated values.\n",
    " Simplified Code: Generators help break complex code into smaller, more manageable pieces.\n",
    " Infinite Sequences: Generators handle large or infinite sequences that can't fit in memory.'''\n",
    " #example\n",
    " # defining a function\n",
    "def my_gen():\n",
    "    n = 1\n",
    "    print(n)\n",
    "    yield n\n",
    "    n += 1\n",
    "    print(n)\n",
    "    yield n\n",
    "    n += 1\n",
    "    print(n)\n",
    "    yield n\n",
    " # calling a function\n",
    "a = my_gen()\n",
    "print(type(a))\n",
    "next(a)\n",
    "next(a)\n",
    "next(a)\n",
    "''' yield is a keyword used in the context of generators. Generators are special functions that can be paused and\n",
    " resumed during their execution. When a function contains the yield keyword, it becomes a generator\n",
    " function.\n",
    " Think of a generator function as a recipe for creating a sequence of values. Instead of generating all the values\n",
    " at once and storing them in memory, the generator function generates one value at a time and \"yields\" it back\n",
    " to the caller. The generator function remembers its state, so when it's called again, it continues from where it\n",
    " left off.\n",
    " Page 93\n",
    "Now, let's talk about the \n",
    "next() function. The \n",
    "next() function is used to manually iterate over the values\n",
    " produced by a generator. When you call \n",
    "next() on a generator object, it resumes the execution of the\n",
    " generator function and returns the next value produced by the \n",
    "yield statement.'''\n",
    "\"\"\" Create a generator to print top 3 athletes who finish Olympic marathon 2019?\"\"\"\n",
    "def top_athletes():\n",
    "    athletes = [\"Mani\", \"Chenna\", \"Kesava\"]\n",
    "    for athlete in athletes[:3]:  # Yield only the top 3 finishers\n",
    "        yield athlete\n",
    "\n",
    "# Using the generator\n",
    "for athlete in top_athletes():\n",
    "    print(athlete)\n",
    "\n",
    "\n"
   ]
  },
  {
   "cell_type": "code",
   "execution_count": 1,
   "id": "17e2b80d",
   "metadata": {},
   "outputs": [
    {
     "name": "stdout",
     "output_type": "stream",
     "text": [
      "1\n",
      "2\n",
      "3\n",
      "4\n",
      "5\n",
      "6\n"
     ]
    }
   ],
   "source": [
    "from array import * \n",
    "arr1 = array('i', [1,2,3,4,5,6])\n",
    "arr2 = array('d',[1.3,1.5,1.6])\n",
    "def traverseArray(array):\n",
    "    for i in array:\n",
    "        print(i)\n",
    "traverseArray(arr1)"
   ]
  },
  {
   "cell_type": "code",
   "execution_count": 11,
   "id": "6013b903",
   "metadata": {},
   "outputs": [
    {
     "name": "stdout",
     "output_type": "stream",
     "text": [
      "This is empty string \n",
      "e\n",
      "n\n",
      "a\n",
      "i\n",
      "e\n",
      "a\n",
      "Vowels in the name: aiea\n",
      "together\n",
      "to\n",
      "get\n",
      "her\n",
      "tee\n",
      "or\n",
      "Successful\n",
      "people\n",
      "are\n",
      "those\n",
      "who\n",
      "burn \n",
      "midnight\n",
      "oil\n"
     ]
    },
    {
     "data": {
      "text/plain": [
       "'\\nGet All Characters Before or After a Specific Position\\nTo get all the items from a specific position to the end of the string, we can specify the start index and leave the end blank.\\nAnd to get all the items before a specific index, we can specify the end index while leaving start blank.\\n\\nGet Characters at Specific Intervals\\nTo retrieve characters at regular intervals, use the step parameter.\\n\\ns = \"abcdefghi\"\\n\\n# Every second character\\nprint(s[::2])\\n\\n# Every third character from index 1 to 8 (exclusive)\\nprint(s[1:8:3]) \\n\\nOutput\\nacegi\\nbeh\\n'"
      ]
     },
     "execution_count": 11,
     "metadata": {},
     "output_type": "execute_result"
    }
   ],
   "source": [
    "#String\n",
    "'''\n",
    "a group of characters enclosed within single or double or triple quotes is called as string. We can say string is a sequential collection of characters.\n",
    "how to create a string?\n",
    "there are four ways to create a string.\n",
    "syntax:\n",
    "string_name = 'string' # single quotes\n",
    "string_name = \"string\" #double quotes #mostly used\n",
    "string_name = (________) #triple single quotes\n",
    "string_name = \"\"\"string\"\"\" #tripledouble quotes\n",
    "'''\n",
    "#if atring has no characters in it then it is called an empty string\n",
    "#example\n",
    "s =\"\"\n",
    "print(\"This is empty string\", s)\n",
    "\n",
    "''' There are three ways to access a string they are:\n",
    "Indexing\n",
    "slicing operator\n",
    "using loops\n",
    "'''\n",
    "\"\"\"\n",
    "#Indexing\n",
    "Indexing means a position of string's characters where it stores. We need to use squares brackets[] to access the string index.\n",
    "String indexing result is string type. String indices should be integer otherwise we will get an error. We can access within the index range otherwise we will get an error.\n",
    "Python supports two type sof indexing\n",
    "1. Positive indexing :([0 - n])\n",
    "2. Negative indexing: ([-1 to -n])\n",
    "string indices must be integers not float.\n",
    "\"\"\"\n",
    "#example\n",
    "name = \"Mani Chenna\"\n",
    "print(name[7])\n",
    "print(name[-9])\n",
    "#example\n",
    "#create a string variable \"name\" and store your name then print only vowel letters from your name?\n",
    "print(name[1])\n",
    "print(name[3])\n",
    "print(name[7])\n",
    "print(name[10])\n",
    "#alternate for above example\n",
    "name = \"Mani Chenna\"\n",
    "# Vowel characters\n",
    "vowels = \"AEIOUaeiou\"\n",
    "# Extract vowels from the name\n",
    "vowel_letters = [char for char in name if char in vowels]\n",
    "# Print result\n",
    "print(\"Vowels in the name:\", \"\".join(vowel_letters))\n",
    "\n",
    "\n",
    "#slicing\n",
    "'''a substring of a string is caled a slice. A slice can represent a part of string from string or a piece of string.\n",
    "String slicing result is string type. We need to use square brackets[] in slicing.\n",
    "In slicing we will not get any index out of range exception. In slicing indices should be integer or none otherwise we will get errors.\n",
    "Syntax: \n",
    "string_name[start: stop : step]\n",
    "Start: represent form the starting index position(default is 0)\n",
    "stop: represents the (ending ndex -1) postion default is last index)\n",
    "step: represents the increment the postion of the index whle accessing(default is 1)\n",
    "Note: If you are not specifying the begin index, then it will consider the beginning of the string. If you are not specifying the end index, then it will consider the end of th string. The default value for step is 1.\n",
    "\n",
    "'''\n",
    "#Example\n",
    "text = \"together\"\n",
    "print(text[:])\n",
    "print(text[:2])\n",
    "print(text[2:5])\n",
    "print(text[5:])\n",
    "print(text[::3])\n",
    "print(text[1:8:6])\n",
    "\n",
    "#Create a string variable \"quote\" and store your favorite quote then print each words from the quote?\n",
    "quote = \"Successful people are those who burn midnight oil\"\n",
    "print(quote[:10])\n",
    "print(quote[11:17])\n",
    "print(quote[18:21])\n",
    "print(quote[22:27])\n",
    "print(quote[28:31])\n",
    "print(quote[32:37])\n",
    "print(quote[37:45])\n",
    "print(quote[46:49])\n",
    "\"\"\"\n",
    "Get All Characters Before or After a Specific Position\n",
    "To get all the items from a specific position to the end of the string, we can specify the start index and leave the end blank.\n",
    "And to get all the items before a specific index, we can specify the end index while leaving start blank.\n",
    "\n",
    "Get Characters at Specific Intervals\n",
    "To retrieve characters at regular intervals, use the step parameter.\n",
    "\n",
    "s = \"abcdefghi\"\n",
    "\n",
    "# Every second character\n",
    "print(s[::2])\n",
    "\n",
    "# Every third character from index 1 to 8 (exclusive)\n",
    "print(s[1:8:3]) \n",
    "\n",
    "Output\n",
    "acegi\n",
    "beh\n",
    "\"\"\"\n",
    "\n"
   ]
  },
  {
   "cell_type": "code",
   "execution_count": 13,
   "id": "daabaeda",
   "metadata": {},
   "outputs": [
    {
     "name": "stdout",
     "output_type": "stream",
     "text": [
      "nohtyP\n"
     ]
    },
    {
     "data": {
      "text/plain": [
       "'\\nExplanation: The slice s[::-1] starts from the end and steps backward through the string, which effectively reversing it. \\nThis method does not alter the original string.'"
      ]
     },
     "execution_count": 13,
     "metadata": {},
     "output_type": "execute_result"
    }
   ],
   "source": [
    "\"\"\"Reverse a String Using Slicing\n",
    "To reverse a string, use a negative step value of -1, which moves from the end of the string to the beginning.\n",
    "\"\"\"\n",
    "s = \"Python\"\n",
    "# Reverse the string\n",
    "print(s[::-1])\n",
    "\"\"\"\n",
    "Explanation: The slice s[::-1] starts from the end and steps backward through the string, which effectively reversing it. \n",
    "This method does not alter the original string.\"\"\""
   ]
  },
  {
   "cell_type": "code",
   "execution_count": 14,
   "id": "b4ae0478",
   "metadata": {},
   "outputs": [
    {
     "ename": "TypeError",
     "evalue": "'str' object does not support item assignment",
     "output_type": "error",
     "traceback": [
      "\u001b[1;31m---------------------------------------------------------------------------\u001b[0m",
      "\u001b[1;31mTypeError\u001b[0m                                 Traceback (most recent call last)",
      "Cell \u001b[1;32mIn[14], line 8\u001b[0m\n\u001b[0;32m      6\u001b[0m \u001b[38;5;66;03m#example \u001b[39;00m\n\u001b[0;32m      7\u001b[0m name \u001b[38;5;241m=\u001b[39m \u001b[38;5;124m\"\u001b[39m\u001b[38;5;124mMani\u001b[39m\u001b[38;5;124m\"\u001b[39m\n\u001b[1;32m----> 8\u001b[0m \u001b[43mname\u001b[49m\u001b[43m[\u001b[49m\u001b[38;5;241;43m0\u001b[39;49m\u001b[43m]\u001b[49m \u001b[38;5;241m=\u001b[39m \u001b[38;5;124m\"\u001b[39m\u001b[38;5;124mJ\u001b[39m\u001b[38;5;124m\"\u001b[39m\n\u001b[0;32m      9\u001b[0m \u001b[38;5;28mprint\u001b[39m(name)\n",
      "\u001b[1;31mTypeError\u001b[0m: 'str' object does not support item assignment"
     ]
    }
   ],
   "source": [
    "'''\n",
    "What is string immutable\n",
    "once we create a variable then the state of the existing variable cannot be changes or modified. This behaviour is called immutablity.\n",
    "strings having immutable nature. once we create a string variable then we cannot change or modify it .  \n",
    "'''\n",
    "#example \n",
    "name = \"Mani\"\n",
    "name[0] = \"J\"\n",
    "print(name)"
   ]
  },
  {
   "cell_type": "markdown",
   "id": "8a95f12c",
   "metadata": {},
   "source": [
    "#String operators(using string operators)"
   ]
  },
  {
   "cell_type": "code",
   "execution_count": 1,
   "id": "75b85352",
   "metadata": {},
   "outputs": [
    {
     "name": "stdout",
     "output_type": "stream",
     "text": [
      "Mani Chenna\n",
      "MANIchenna$@4\n",
      "Mani Mani Mani Mani \n",
      "length of string: 4\n",
      "length of the string: 49\n",
      "True\n",
      "False\n",
      "False\n",
      "True\n",
      "True\n",
      "True\n",
      "Yntn\n",
      "Invalid user name!\n",
      "I love coding\n",
      "Mani Chenna\n",
      "reddy is not found in mani\n",
      "2\n"
     ]
    }
   ],
   "source": [
    "\"\"\"\n",
    "1. concatination(+)\n",
    " The + operator works like concatenation or joins the strings. While using + operator on string, It is\n",
    " compulsory that both variables should be string type, otherwise we will get an error.\n",
    " syntax:\n",
    " s1 + s2\n",
    "\"\"\"\n",
    "fs = \"Mani\"\n",
    "ss = \" Chenna\" # if it is not string then it will give error that only concatenate str type\n",
    "print(fs + ss) \n",
    "\"\"\"\n",
    "Create four string variables \"UPPER\", \"lower\", \"Symbols\", \"digits\" and store uppercase\n",
    " letters, lowercase letters, special symbols and digits(0-9) respectively then create a\n",
    " password which contains all of them? \n",
    "\"\"\"\n",
    "upper= \"MANI\"\n",
    "lower =\"chenna\"\n",
    "symbols=\"$@\"\n",
    "digits =\"4\"\n",
    "print(upper+lower+symbols+digits)\n",
    "\n",
    "\"\"\"\n",
    "2. Multiplication(*)\n",
    "This is used for string repetition. While using * operator on string, It is compulsory that one variable should\n",
    " be string and other arguments should be int type.\n",
    " syntax:\n",
    " s * number\n",
    "\"\"\"\n",
    "#example\n",
    "fs = \"Mani \"\n",
    "ag = 4 #this should be int type only otherwise it will give an error that cant multiply by non-int type\n",
    "print(fs * ag)\n",
    "\n",
    "\"\"\"\n",
    "#String oerations(using string methods)\n",
    "1.len() method\n",
    " We can find the length of string by using len() function. By using the len() function we can find groups of\n",
    " characters present in a string. The len() function returns int as result.\n",
    " syntax:\n",
    " len(s)\n",
    "\"\"\"\n",
    "#example\n",
    "fs =\"Mani\"\n",
    "print(\"length of string:\", len(fs))\n",
    "# Create a string variable \"quote\" and store your favorite quote then find length of the quote?\n",
    "quote =\"Successful people are those who brun midnight oil\"\n",
    "print(\"length of the string:\",len(quote))\n",
    "\n",
    "\"\"\"\n",
    "2. Membership operators\n",
    " We can check, if a string or character is a member/substring of string or not by using below operators:\n",
    " in\n",
    " not in\n",
    "-in operator returns True, if the string or character found in the main string.\n",
    "-not in operator returns the opposite result of in operator. not in operator returns True, if the string or\n",
    " character is not found in the main string.\n",
    "\"\"\"\n",
    "#example:\n",
    "fs =\"Mani\"\n",
    "print('M' in fs)\n",
    "print('m' in fs)\n",
    "print('Mni' in fs)\n",
    "print('ani' in fs)\n",
    "ls =\"Chenna\"\n",
    "print('che' not in ls)\n",
    "print('ma' not in ls)\n",
    "# Create a string variable \"name\" and store a string “Yonatan” then remove all vowel letters from the string?\n",
    "name = \"Yonatan\"\n",
    "print(name[::2])\n",
    "\n",
    "\"\"\"\n",
    "3. Rlational operators\n",
    "We can use the relational operators like >, >=, <, <=, ==, != to compare two strings. While comparing it\n",
    " returns boolean values, either True or False. Comparison will be done based on alphabetical order or\n",
    " dictionary order.\n",
    "\"\"\"\n",
    "#example\n",
    "fs =\"Mani\"\n",
    "i =  str(input(\"Enter your name:\"))\n",
    "if i == fs:\n",
    "    print(\"Hello\", i)\n",
    "    print(\"Welcome to coding world.\")\n",
    "else:\n",
    "    print(\"Invalid user name!\")\n",
    "#space is also considered in strings s careful when entering the strings\n",
    "\n",
    "\"\"\"\n",
    "4.  Strip()\n",
    " Predefined methods to remove spaces in Python\n",
    " rstrip() - remove spaces at right side of string\n",
    " lstrip() - remove spaces at left side of string\n",
    " strip() - remove spaces at left & right sides of string\n",
    " Note: These methods won't remove the spaces which are in the middle of the string.\n",
    " syntax:\n",
    " s.strip()\n",
    "\"\"\"\n",
    "#example:\n",
    "i = \"      I love coding   \"\n",
    "i = i.strip()\n",
    "print(i)\n",
    "# Create username validation program excluding whitespace?\n",
    "username = \"   Mani Chenna   \"\n",
    "username = username.strip()\n",
    "print(username)\n",
    "\n",
    "#Searching Methods\n",
    "\"\"\"\n",
    " We can find a substring in two directions like forward and backward direction. We can use the following 4\n",
    " methods:\n",
    " For forward direction\n",
    " find()\n",
    " index()\n",
    " For backward direction\n",
    " rfind()\n",
    " rindex()\n",
    " \n",
    "5. find()\n",
    " This method returns an index of the first occurrence of the given substring.\n",
    " If it is not available, then we will get -1 (minus one) value. By default find() method can search the total string\n",
    " of the object.\n",
    " Syntax:\n",
    " string_name.find(substring)\n",
    " You can also specify the boundaries while searching.\n",
    " Syntax:\n",
    " string_name.find(substring, begin, end)\n",
    "\"\"\"\n",
    "#example\n",
    "fn = input(\"Enter your name: \")\n",
    "sub = input(\"Enter nick name: \")\n",
    "i = fn.find(sub)\n",
    "if i == -1:\n",
    "    print(sub, \"is not found in\",fn)\n",
    "else:\n",
    "    print(sub, \"is found in\",fn)\n",
    "\"\"\"\n",
    "6. Index()\n",
    "index() method is exactly the same as find() method except that if the specified substring is not available then\n",
    " we will get ValueError. So, we can handle this error in application level.\n",
    " Syntax:\n",
    " string_name.index(substring)\n",
    "\"\"\"\n",
    "s =\"Together\"\n",
    "print(s.index(\"gether\"))"
   ]
  },
  {
   "cell_type": "code",
   "execution_count": null,
   "id": "35a10b10",
   "metadata": {},
   "outputs": [],
   "source": []
  }
 ],
 "metadata": {
  "kernelspec": {
   "display_name": "base",
   "language": "python",
   "name": "python3"
  },
  "language_info": {
   "codemirror_mode": {
    "name": "ipython",
    "version": 3
   },
   "file_extension": ".py",
   "mimetype": "text/x-python",
   "name": "python",
   "nbconvert_exporter": "python",
   "pygments_lexer": "ipython3",
   "version": "3.11.5"
  }
 },
 "nbformat": 4,
 "nbformat_minor": 5
}
